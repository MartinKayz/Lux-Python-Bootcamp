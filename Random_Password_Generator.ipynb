{
  "nbformat": 4,
  "nbformat_minor": 0,
  "metadata": {
    "colab": {
      "name": "Random Password Generator.ipynb",
      "provenance": [],
      "authorship_tag": "ABX9TyMQz2QPubStfkcL2SICeSYd",
      "include_colab_link": true
    },
    "kernelspec": {
      "name": "python3",
      "display_name": "Python 3"
    },
    "language_info": {
      "name": "python"
    }
  },
  "cells": [
    {
      "cell_type": "markdown",
      "metadata": {
        "id": "view-in-github",
        "colab_type": "text"
      },
      "source": [
        "<a href=\"https://colab.research.google.com/github/MartinKayz/Lux-Python-Bootcamp/blob/main/Random_Password_Generator.ipynb\" target=\"_parent\"><img src=\"https://colab.research.google.com/assets/colab-badge.svg\" alt=\"Open In Colab\"/></a>"
      ]
    },
    {
      "cell_type": "markdown",
      "metadata": {
        "id": "k8msYXWUhLGi"
      },
      "source": [
        "# RANDOM PASSWORD GENERATOR \n",
        "  ### WEEK ONE(1)- LUX ACADEMY PYTHON BOOTCAMP\n",
        "  #### LAB1\n",
        "\n",
        "\n",
        "\n"
      ]
    },
    {
      "cell_type": "code",
      "metadata": {
        "colab": {
          "base_uri": "https://localhost:8080/"
        },
        "id": "KoMqEqwqysjq",
        "outputId": "4deff5a6-c787-4dc2-d08b-e294c5337763"
      },
      "source": [
        "\"\"\"\n",
        "  A Python script to generate a random password of 8 characters.\n",
        "  Each time the program is run, a new password will be generated randomly.\n",
        "  And will have to include the following characters in any order:\n",
        "\n",
        "        2 uppercase letters from A to Z,\n",
        "        2 lowercase letters from a to z,\n",
        "        2 digits from 0 to 9,\n",
        "        2 punctuation signs such as !, ?, “, # etc.\n",
        "\n",
        "\n",
        "\"\"\"\n",
        "import random\n",
        "import string, itertools\n",
        "\n",
        "# Initialize the randomness each time the program is run\n",
        "random.seed() \n",
        "\n",
        "# to capture 2 upper case letters A-Z\n",
        "up_case = random.choices(string.ascii_uppercase,k=2)\n",
        "\n",
        "# to capture 2 lower case letters a-z\n",
        "low_case = random.choices(string.ascii_lowercase,k=2)\n",
        "\n",
        "# to capture 2 digits from 0 - 9 \n",
        "ran_nums = []\n",
        "for i in range(2):\n",
        "  digits = random.randint(0,9)\n",
        "  ran_nums.append(digits)\n",
        "\n",
        "\n",
        "# to capture 2 punction signs such as  !, ?, “, #\n",
        "puncs = random.choices(string.punctuation, k=2)\n",
        "\n",
        "\n",
        "# to join all the lists generated thus fur\n",
        "temp_password = list(itertools.chain(up_case,low_case,ran_nums,puncs))\n",
        "\n",
        "\n",
        "# A function to covert our list above to one string\n",
        "def convert_list2String(lst):\n",
        "  \"\"\"\n",
        "  This function takes a list containing characters in the password\n",
        "  as an argument, iterates through all elements in the list and added them\n",
        "  to a new string literal. \n",
        "  Thus returns a string, the password\n",
        "  \"\"\"\n",
        "  new_password = \"\"\n",
        "\n",
        "  for elem in lst:\n",
        "    new_password += str(elem)\n",
        "\n",
        "  return new_password\n",
        "\n",
        "# a password is generated but unshuffled\n",
        "random_key = convert_list2String(temp_password)\n",
        "\n",
        "# I shuffle the password, to confuse the pattern, returns a list\n",
        "shuffled_pass = random.sample(random_key, k = 8)\n",
        "\n",
        "# convert shuffled list to final String/ Password\n",
        "your_password = convert_list2String(shuffled_pass)\n",
        "\n",
        "print(your_password)\n",
        "\n"
      ],
      "execution_count": 41,
      "outputs": [
        {
          "output_type": "stream",
          "text": [
            "07Xm|<eL\n"
          ],
          "name": "stdout"
        }
      ]
    },
    {
      "cell_type": "code",
      "metadata": {
        "id": "owGYnwqf8zlr"
      },
      "source": [
        ""
      ],
      "execution_count": null,
      "outputs": []
    }
  ]
}