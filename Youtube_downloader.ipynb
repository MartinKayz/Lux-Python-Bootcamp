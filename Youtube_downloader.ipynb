{
  "nbformat": 4,
  "nbformat_minor": 0,
  "metadata": {
    "colab": {
      "name": "Youtube-downloader.ipynb",
      "provenance": [],
      "collapsed_sections": [],
      "authorship_tag": "ABX9TyNghKUkNWFfRkR9iCH7wQxG",
      "include_colab_link": true
    },
    "kernelspec": {
      "name": "python3",
      "display_name": "Python 3"
    },
    "language_info": {
      "name": "python"
    }
  },
  "cells": [
    {
      "cell_type": "markdown",
      "metadata": {
        "id": "view-in-github",
        "colab_type": "text"
      },
      "source": [
        "<a href=\"https://colab.research.google.com/github/MartinKayz/Lux-Python-Bootcamp/blob/main/Youtube_downloader.ipynb\" target=\"_parent\"><img src=\"https://colab.research.google.com/assets/colab-badge.svg\" alt=\"Open In Colab\"/></a>"
      ]
    },
    {
      "cell_type": "code",
      "metadata": {
        "colab": {
          "base_uri": "https://localhost:8080/"
        },
        "id": "_yxovMVrYdbi",
        "outputId": "6288d863-c5a1-43fb-bbab-faba77e2a610"
      },
      "source": [
        "pip install pytube\n"
      ],
      "execution_count": 3,
      "outputs": [
        {
          "output_type": "stream",
          "text": [
            "Collecting pytube\n",
            "  Downloading pytube-11.0.0-py3-none-any.whl (55 kB)\n",
            "\u001b[?25l\r\u001b[K     |█████▉                          | 10 kB 21.7 MB/s eta 0:00:01\r\u001b[K     |███████████▊                    | 20 kB 27.7 MB/s eta 0:00:01\r\u001b[K     |█████████████████▋              | 30 kB 16.2 MB/s eta 0:00:01\r\u001b[K     |███████████████████████▌        | 40 kB 11.7 MB/s eta 0:00:01\r\u001b[K     |█████████████████████████████▎  | 51 kB 5.3 MB/s eta 0:00:01\r\u001b[K     |████████████████████████████████| 55 kB 2.3 MB/s \n",
            "\u001b[?25hInstalling collected packages: pytube\n",
            "Successfully installed pytube-11.0.0\n"
          ],
          "name": "stdout"
        }
      ]
    },
    {
      "cell_type": "code",
      "metadata": {
        "id": "ps1VaOG4ynMR"
      },
      "source": [
        "from pytube import YouTube"
      ],
      "execution_count": 4,
      "outputs": []
    },
    {
      "cell_type": "code",
      "metadata": {
        "colab": {
          "base_uri": "https://localhost:8080/",
          "height": 52
        },
        "id": "I4w17FVezr4x",
        "outputId": "c6c78cc6-d9fd-4b6f-bc3f-2b9b9af89295"
      },
      "source": [
        "link = str(input(\"Please put the url of the video you want to download!\"))\n",
        "\n",
        "def downloader():\n",
        "  url = YouTube(link)\n",
        "  video = url.streams.first()\n",
        "  video.download()\n",
        "  return \"Video downloaded successfully!\"\n",
        "\n",
        "\n",
        "downloader()\n"
      ],
      "execution_count": 6,
      "outputs": [
        {
          "output_type": "stream",
          "text": [
            "Please put the url of the video you want to download!https://www.youtube.com/watch?v=tLfxxIURHT8\n"
          ],
          "name": "stdout"
        },
        {
          "output_type": "execute_result",
          "data": {
            "application/vnd.google.colaboratory.intrinsic+json": {
              "type": "string"
            },
            "text/plain": [
              "'Video downloaded successfully!'"
            ]
          },
          "metadata": {
            "tags": []
          },
          "execution_count": 6
        }
      ]
    },
    {
      "cell_type": "code",
      "metadata": {
        "id": "doqJCn4l1tUn"
      },
      "source": [
        ""
      ],
      "execution_count": null,
      "outputs": []
    }
  ]
}