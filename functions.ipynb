{
 "cells": [
  {
   "cell_type": "markdown",
   "source": [
    "## Calculating the BMI of a person\n"
   ],
   "metadata": {}
  },
  {
   "cell_type": "code",
   "execution_count": 2,
   "source": [
    "# assuming the user gives us weight in KGS and height in meters\n",
    "def bmi(weight , height):\n",
    "    return weight / height ** 2\n",
    "\n",
    "\n",
    "#testing function\n",
    "print(bmi(64, 1.56))"
   ],
   "outputs": [
    {
     "output_type": "stream",
     "name": "stdout",
     "text": [
      "26.298487836949374\n"
     ]
    }
   ],
   "metadata": {}
  },
  {
   "cell_type": "code",
   "execution_count": 3,
   "source": [
    "# now values provided by the user do not sometimes make sense\n",
    "# lets return None for such values\n",
    "\n",
    "def bmi(weight, height):\n",
    "    if weight < 20 or weight > 200 or height < 1.0 or height > 2.5:\n",
    "        return None\n",
    "    \n",
    "    return weight / height ** 2\n",
    "\n",
    "#testing function\n",
    "print(bmi(12, 3.6))"
   ],
   "outputs": [
    {
     "output_type": "stream",
     "name": "stdout",
     "text": [
      "None\n"
     ]
    }
   ],
   "metadata": {}
  },
  {
   "cell_type": "code",
   "execution_count": 4,
   "source": [
    "#but now some users have different ways of measuring height and weight\n",
    "# pounds and feet/inches\n",
    "#lets write some helper functions to convert that\n",
    "\n",
    "\n",
    "\n",
    "# helper function to convert pounds to kilograms\n",
    "# 1 lb = 0.45359237 kg\n",
    "def lb_to_kgs(lb):\n",
    "    return lb * 0.45359237\n",
    "\n",
    "\n",
    "# helper function to convert feet and inches to meters\n",
    "# 1 ft = 0.3048 m\n",
    "# 1 in = 2.54 cm = 0.0254 m\n",
    "def ft_and_inches_to_m(feet, inches):\n",
    "    return feet * 0.3048 + inches * 0.0254\n",
    "\n",
    "\n",
    "# testing our bmi function with helper functions\n",
    "\n",
    "print( bmi(weight= lb_to_kgs(180), height= ft_and_inches_to_m(5,7)))"
   ],
   "outputs": [
    {
     "output_type": "stream",
     "name": "stdout",
     "text": [
      "28.191696220772705\n"
     ]
    }
   ],
   "metadata": {}
  },
  {
   "cell_type": "code",
   "execution_count": null,
   "source": [],
   "outputs": [],
   "metadata": {}
  }
 ],
 "metadata": {
  "orig_nbformat": 4,
  "language_info": {
   "name": "python",
   "version": "3.9.6",
   "mimetype": "text/x-python",
   "codemirror_mode": {
    "name": "ipython",
    "version": 3
   },
   "pygments_lexer": "ipython3",
   "nbconvert_exporter": "python",
   "file_extension": ".py"
  },
  "kernelspec": {
   "name": "python3",
   "display_name": "Python 3.9.6 64-bit"
  },
  "interpreter": {
   "hash": "36cf16204b8548560b1c020c4e8fb5b57f0e4c58016f52f2d4be01e192833930"
  }
 },
 "nbformat": 4,
 "nbformat_minor": 2
}