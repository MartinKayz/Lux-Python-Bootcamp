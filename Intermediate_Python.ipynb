{
  "nbformat": 4,
  "nbformat_minor": 0,
  "metadata": {
    "colab": {
      "name": "Intermediate-Python.ipynb",
      "provenance": [],
      "authorship_tag": "ABX9TyPULQUfyeBlmuyhJ0bICG9m",
      "include_colab_link": true
    },
    "kernelspec": {
      "name": "python3",
      "display_name": "Python 3"
    },
    "language_info": {
      "name": "python"
    }
  },
  "cells": [
    {
      "cell_type": "markdown",
      "metadata": {
        "id": "view-in-github",
        "colab_type": "text"
      },
      "source": [
        "<a href=\"https://colab.research.google.com/github/MartinKayz/Lux-Python-Bootcamp/blob/main/Intermediate_Python.ipynb\" target=\"_parent\"><img src=\"https://colab.research.google.com/assets/colab-badge.svg\" alt=\"Open In Colab\"/></a>"
      ]
    },
    {
      "cell_type": "code",
      "metadata": {
        "id": "xPw-EiljvqiK"
      },
      "source": [
        ""
      ],
      "execution_count": null,
      "outputs": []
    },
    {
      "cell_type": "markdown",
      "metadata": {
        "id": "FFcbLbNXx-wq"
      },
      "source": [
        "DATA STRUCTURES AND DATA TYPES\n",
        "### LISTS\n"
      ]
    },
    {
      "cell_type": "code",
      "metadata": {
        "colab": {
          "base_uri": "https://localhost:8080/"
        },
        "id": "FpQgD1LEyNuk",
        "outputId": "0764dc15-ce77-4bb7-d9fa-d7d7303e5557"
      },
      "source": [
        "todo = ['sleep','wakeup', 'eat','school']\n",
        "todo"
      ],
      "execution_count": null,
      "outputs": [
        {
          "output_type": "execute_result",
          "data": {
            "text/plain": [
              "['sleep', 'wakeup', 'eat', 'school']"
            ]
          },
          "metadata": {
            "tags": []
          },
          "execution_count": 1
        }
      ]
    },
    {
      "cell_type": "markdown",
      "metadata": {
        "id": "pxRumTqLxU3r"
      },
      "source": [
        ""
      ]
    },
    {
      "cell_type": "code",
      "metadata": {
        "colab": {
          "base_uri": "https://localhost:8080/",
          "height": 35
        },
        "id": "49Sn0rS3y-2k",
        "outputId": "385c6e14-703d-423e-93cb-5e3b2aa65695"
      },
      "source": [
        "todo[0]"
      ],
      "execution_count": null,
      "outputs": [
        {
          "output_type": "execute_result",
          "data": {
            "application/vnd.google.colaboratory.intrinsic+json": {
              "type": "string"
            },
            "text/plain": [
              "'sleep'"
            ]
          },
          "metadata": {
            "tags": []
          },
          "execution_count": 2
        }
      ]
    },
    {
      "cell_type": "code",
      "metadata": {
        "id": "wskPDwxJzENg"
      },
      "source": [
        "todo.append(\"relax\")"
      ],
      "execution_count": null,
      "outputs": []
    },
    {
      "cell_type": "code",
      "metadata": {
        "colab": {
          "base_uri": "https://localhost:8080/"
        },
        "id": "ZQxmYrzKzLen",
        "outputId": "416ac216-a7a7-4f6b-b0f8-8e26cf787f1a"
      },
      "source": [
        "todo"
      ],
      "execution_count": null,
      "outputs": [
        {
          "output_type": "execute_result",
          "data": {
            "text/plain": [
              "['sleep', 'wakeup', 'eat', 'school', 'relax']"
            ]
          },
          "metadata": {
            "tags": []
          },
          "execution_count": 4
        }
      ]
    },
    {
      "cell_type": "code",
      "metadata": {
        "colab": {
          "base_uri": "https://localhost:8080/"
        },
        "id": "RFOo-YRfzM06",
        "outputId": "fee5c249-25fe-47bd-8256-21fcc5927d65"
      },
      "source": [
        "todo.remove('eat')\n",
        "todo"
      ],
      "execution_count": null,
      "outputs": [
        {
          "output_type": "execute_result",
          "data": {
            "text/plain": [
              "['sleep', 'wakeup', 'school', 'relax']"
            ]
          },
          "metadata": {
            "tags": []
          },
          "execution_count": 5
        }
      ]
    },
    {
      "cell_type": "markdown",
      "metadata": {
        "id": "Aw4U0unUzsNf"
      },
      "source": [
        "## TUPLES\n",
        "Ordered collection but unmutaable: you cannot change them once they are created\n"
      ]
    },
    {
      "cell_type": "code",
      "metadata": {
        "colab": {
          "base_uri": "https://localhost:8080/"
        },
        "id": "IKz16Xx9z9B_",
        "outputId": "03044599-a22c-4f5d-fbf1-82daf731f6a1"
      },
      "source": [
        "shopping_list = (\"eggs\", 'milk', 'bananas', 'veggies')\n",
        "shopping_list"
      ],
      "execution_count": null,
      "outputs": [
        {
          "output_type": "execute_result",
          "data": {
            "text/plain": [
              "('eggs', 'milk', 'bananas', 'veggies')"
            ]
          },
          "metadata": {
            "tags": []
          },
          "execution_count": 6
        }
      ]
    },
    {
      "cell_type": "code",
      "metadata": {
        "colab": {
          "base_uri": "https://localhost:8080/",
          "height": 35
        },
        "id": "VMRSdIwh0JWd",
        "outputId": "518b10d5-2ee3-463f-c04e-35110a401760"
      },
      "source": [
        "shopping_list[1]"
      ],
      "execution_count": null,
      "outputs": [
        {
          "output_type": "execute_result",
          "data": {
            "application/vnd.google.colaboratory.intrinsic+json": {
              "type": "string"
            },
            "text/plain": [
              "'milk'"
            ]
          },
          "metadata": {
            "tags": []
          },
          "execution_count": 7
        }
      ]
    },
    {
      "cell_type": "code",
      "metadata": {
        "colab": {
          "base_uri": "https://localhost:8080/"
        },
        "id": "DvwH9h8R0Qa8",
        "outputId": "bcc1d5c0-fa0b-4247-e670-8a89a6ddcfde"
      },
      "source": [
        "shopping_list[1:3]"
      ],
      "execution_count": null,
      "outputs": [
        {
          "output_type": "execute_result",
          "data": {
            "text/plain": [
              "('milk', 'bananas')"
            ]
          },
          "metadata": {
            "tags": []
          },
          "execution_count": 8
        }
      ]
    },
    {
      "cell_type": "code",
      "metadata": {
        "id": "15cghKxc0Zdf"
      },
      "source": [
        " # del shopping_list\n"
      ],
      "execution_count": null,
      "outputs": []
    },
    {
      "cell_type": "markdown",
      "metadata": {
        "id": "PLEoKgYe1Wcv"
      },
      "source": [
        "## DICTIONARIES\n",
        "Ordered structure but with Key-value pairs : no duplicates\n"
      ]
    },
    {
      "cell_type": "code",
      "metadata": {
        "colab": {
          "base_uri": "https://localhost:8080/"
        },
        "id": "TrFMTyBa1klg",
        "outputId": "b79273f9-6373-46cf-f7e0-53864ac617d4"
      },
      "source": [
        "profile = {\n",
        "    \"name\": \"Kubona \",\n",
        "    \"age\": 12,\n",
        "    \"DOB\" : \"2000/07/31\",\n",
        "}\n",
        "profile"
      ],
      "execution_count": null,
      "outputs": [
        {
          "output_type": "execute_result",
          "data": {
            "text/plain": [
              "{'DOB': '2000/07/31', 'age': 12, 'name': 'Kubona '}"
            ]
          },
          "metadata": {
            "tags": []
          },
          "execution_count": 12
        }
      ]
    },
    {
      "cell_type": "code",
      "metadata": {
        "colab": {
          "base_uri": "https://localhost:8080/",
          "height": 35
        },
        "id": "aTKTQ4QT15D0",
        "outputId": "2c84abb7-5501-4477-c28c-9c489ed7dbc3"
      },
      "source": [
        "profile['name']"
      ],
      "execution_count": null,
      "outputs": [
        {
          "output_type": "execute_result",
          "data": {
            "application/vnd.google.colaboratory.intrinsic+json": {
              "type": "string"
            },
            "text/plain": [
              "'Kubona '"
            ]
          },
          "metadata": {
            "tags": []
          },
          "execution_count": 14
        }
      ]
    },
    {
      "cell_type": "markdown",
      "metadata": {
        "id": "ih4jC6td2Owk"
      },
      "source": [
        "## SETS \n",
        "Unordered, unindexed, no duplicates"
      ]
    },
    {
      "cell_type": "code",
      "metadata": {
        "colab": {
          "base_uri": "https://localhost:8080/"
        },
        "id": "pC_y0lqg2YX9",
        "outputId": "fa769ab6-7021-43d7-c416-495ad8a4f402"
      },
      "source": [
        "api_keys = {\"jrefngwsmcr\", '243diqdedef', 'ncrfgwcegr23'}\n",
        "api_keys"
      ],
      "execution_count": null,
      "outputs": [
        {
          "output_type": "execute_result",
          "data": {
            "text/plain": [
              "{'243diqdedef', 'jrefngwsmcr', 'ncrfgwcegr23'}"
            ]
          },
          "metadata": {
            "tags": []
          },
          "execution_count": 15
        }
      ]
    },
    {
      "cell_type": "code",
      "metadata": {
        "colab": {
          "base_uri": "https://localhost:8080/"
        },
        "id": "jsYIYcp-2lIl",
        "outputId": "0fc846ca-627d-411b-cfe6-b53963e7a0a2"
      },
      "source": [
        "api_keys.discard(\"jrefngwsmcr\")\n",
        "api_keys"
      ],
      "execution_count": null,
      "outputs": [
        {
          "output_type": "execute_result",
          "data": {
            "text/plain": [
              "{'243diqdedef', 'ncrfgwcegr23'}"
            ]
          },
          "metadata": {
            "tags": []
          },
          "execution_count": 17
        }
      ]
    },
    {
      "cell_type": "markdown",
      "metadata": {
        "id": "B6-qyDThtIG1"
      },
      "source": [
        "## LAMBDA FUNCTIONS \n",
        "One line functions: any number of arguments, one expression\n"
      ]
    },
    {
      "cell_type": "code",
      "metadata": {
        "id": "lGmf0qAS2DAP",
        "colab": {
          "base_uri": "https://localhost:8080/"
        },
        "outputId": "0bf7c793-c3b8-47bd-8b42-ae0dfd0ce5bd"
      },
      "source": [
        "square = lambda x,y : x + 2 + (y + 4)\n",
        "square(2,2)"
      ],
      "execution_count": 1,
      "outputs": [
        {
          "output_type": "execute_result",
          "data": {
            "text/plain": [
              "10"
            ]
          },
          "metadata": {
            "tags": []
          },
          "execution_count": 1
        }
      ]
    },
    {
      "cell_type": "code",
      "metadata": {
        "id": "veD_eUAe19HR",
        "colab": {
          "base_uri": "https://localhost:8080/"
        },
        "outputId": "050cec68-9b85-4e7b-f807-d26498446540"
      },
      "source": [
        "double = lambda x : x *2 \n",
        "double(5)"
      ],
      "execution_count": 2,
      "outputs": [
        {
          "output_type": "execute_result",
          "data": {
            "text/plain": [
              "10"
            ]
          },
          "metadata": {
            "tags": []
          },
          "execution_count": 2
        }
      ]
    },
    {
      "cell_type": "markdown",
      "metadata": {
        "id": "2G2D-8LJt17V"
      },
      "source": [
        "## VARIABLE TYPES\n",
        " - Global\n",
        " - Local\n",
        " - Nonlocal\n",
        "\n",
        "\n",
        "\n",
        " "
      ]
    },
    {
      "cell_type": "code",
      "metadata": {
        "id": "47jRxUlj0oid",
        "colab": {
          "base_uri": "https://localhost:8080/",
          "height": 35
        },
        "outputId": "0a9bcabb-15c7-4e88-a856-92c16c062632"
      },
      "source": [
        "# Global\n",
        "x = \"I am a global variable\"\n",
        "x"
      ],
      "execution_count": 3,
      "outputs": [
        {
          "output_type": "execute_result",
          "data": {
            "application/vnd.google.colaboratory.intrinsic+json": {
              "type": "string"
            },
            "text/plain": [
              "'I am a global variable'"
            ]
          },
          "metadata": {
            "tags": []
          },
          "execution_count": 3
        }
      ]
    },
    {
      "cell_type": "code",
      "metadata": {
        "id": "pw4_1maW0kvN",
        "colab": {
          "base_uri": "https://localhost:8080/"
        },
        "outputId": "6e3ff19b-db29-46f5-d1d8-16e1daaab364"
      },
      "source": [
        "# Local : defined inside functions\n",
        "def demo():\n",
        "  x = \"I am a local variable...!\"\n",
        "  return x\n",
        "\n",
        "print(x, end='\\n')\n",
        "print(\"We just printed the Global variable\")\n",
        "print(demo())\n",
        "print(\"We just printed the Local variable\")\n"
      ],
      "execution_count": 7,
      "outputs": [
        {
          "output_type": "stream",
          "text": [
            "I am a global variable\n",
            "We just printed the Global variable\n",
            "I am a local variable...!\n",
            "We just printed the Local variable\n"
          ],
          "name": "stdout"
        }
      ]
    },
    {
      "cell_type": "code",
      "metadata": {
        "id": "33XmMjpE0iew",
        "colab": {
          "base_uri": "https://localhost:8080/"
        },
        "outputId": "41a85d91-85c2-4dd8-ec9b-a7a7397cccf9"
      },
      "source": [
        "# Nonlocal\n",
        "def demo2():\n",
        "  x = \" I am the same version of the local variable you saw earlier \"\n",
        "  print(x)\n",
        "\n",
        "  def demo3():\n",
        "    nonlocal x\n",
        "    x = \" For me , I am non Local \"\n",
        "    print(x)\n",
        "\n",
        "  demo3()\n",
        "\n",
        "demo2()\n",
        "\n"
      ],
      "execution_count": 16,
      "outputs": [
        {
          "output_type": "stream",
          "text": [
            " I am the same version of the local variable you saw earlier \n",
            " For me , I am non Local \n"
          ],
          "name": "stdout"
        }
      ]
    },
    {
      "cell_type": "code",
      "metadata": {
        "id": "ozgQuTXBzWJv"
      },
      "source": [
        ""
      ],
      "execution_count": null,
      "outputs": []
    }
  ]
}