{
  "nbformat": 4,
  "nbformat_minor": 0,
  "metadata": {
    "colab": {
      "name": "Intro_to_Python_101!.ipynb",
      "provenance": [],
      "collapsed_sections": [],
      "authorship_tag": "ABX9TyMUUdLJDgTtu8rA2FRcrkKK",
      "include_colab_link": true
    },
    "kernelspec": {
      "name": "python3",
      "display_name": "Python 3"
    },
    "language_info": {
      "name": "python"
    }
  },
  "cells": [
    {
      "cell_type": "markdown",
      "metadata": {
        "id": "view-in-github",
        "colab_type": "text"
      },
      "source": [
        "<a href=\"https://colab.research.google.com/github/MartinKayz/Lux-Python-Bootcamp/blob/main/Intro_to_Python_101!.ipynb\" target=\"_parent\"><img src=\"https://colab.research.google.com/assets/colab-badge.svg\" alt=\"Open In Colab\"/></a>"
      ]
    },
    {
      "cell_type": "markdown",
      "metadata": {
        "id": "Hw8A34-X9Svk"
      },
      "source": [
        "# PYTHON PROGRAMMING - LUX ACADEMY BOOTCAMP\n"
      ]
    },
    {
      "cell_type": "markdown",
      "metadata": {
        "id": "Q2mbF5Dd-F33"
      },
      "source": [
        "## What is Python?\n",
        "\n",
        "Python is a programming language. In specific, it is a high level language, general purpose and interpreted. \n",
        "\n",
        "## So, tell me!! What is python used for?\n",
        "\n",
        "Well simply put, Python is used in a wide variety of fields in the computing world.\n",
        "These sectors of application are but not even limited to:\n",
        "\n",
        "    1. Web Applications\n",
        "    2. Data Science\n",
        "    3. Mobile Applications\n",
        "    4. Big Data\n",
        "    5. Artificial Intelligence\n",
        "    6. Automation \n",
        "    7. Testing\n",
        "\n",
        "## Ohhh!!! I see that is a wide variety of fields. Quite intersting, huh? Now i know where my area of focus could be. You also said something about interpreted ... or what???\n",
        "\n",
        "Yes friend,\n",
        " > Python is a high level interpreted language \n",
        "\n",
        " Other languages like `java` have to wait for the compiler to compile the whole file of your code before it can execute. \n",
        "\n",
        " Python is behaves differently. After writing your source code in a file, Python will use an `interpreter` to compile the source code `line by line` into `machine code` . Machine code is the language the computer understands.\n",
        "\n",
        "## Now I understand! So is it because of those features that one uses Python over other languages?\n",
        "\n",
        "Great Question! I personally love python because it is very easy to learn. Compared to other languages i have tried out, like `java` , Nah! Python is way cooler with even nice syntax.\n",
        "\n",
        "Secondly, I love the fact that its able to cut across many different domains. Imagine you mastered Python!!!, You can work on websites, make some cool intructions for a robot, analyse your companies data, make an app, automate your computer...see list is endless. That is real.\n",
        "\n",
        "Third with Python you can be rest assured that problems are going to be solved in the shortest period of time. \n",
        "### What??? \n",
        "Yes, with Python hard to imagine complex problems can be solved with fewer lines of code. That can boost your prodcutivity as a programmer, you worry less. \n",
        "\n",
        "#### For example \n",
        "\n",
        "``` \n",
        "java\n",
        "\n",
        "public static void main(String[] args){\n",
        "  System.out.println(\"Hello Friend\")\n",
        "  /**Am sorry i do not know your name */\n",
        "}\n",
        "```\n",
        "See all that complexity there!!! , Now see the magic with `Python`\n",
        "\n",
        "```\n",
        "python\n",
        "\n",
        "print(\"Hello World\")\n",
        "\n",
        "```\n",
        "\n",
        "### Oh wow!!! Thats cool stuff. Anything more about Python? I am enjoying this already....am waiting!!\n",
        "\n",
        "Nice to know that you are loving Python already. And yeah there is a big community of Python developers all around the world to support you at every stage of your journey. Right from tonight, *assuming you start coding today, haha* If you get stuck, they will always help you. Is that not great?\n",
        "\n",
        "Summing up, be rest assured that the programs you write in Python will run on all operating systems..name it. \n",
        " > Windows, Linux or even MacOS\n",
        "\n",
        "#### Should the world know that you can program in Python? \n",
        "\n",
        "Yes, there is high demand for Python developers. You will be spoilt for choice because you are needed urgently. \n",
        "\n",
        "### So what now? \n",
        "\n",
        "Glad you have a prospect to learn Python. Over the next few days, stay tuned on my blog, follow me so that you do not miss any step towards becoming a great python developer.\n",
        "\n",
        "I will guide you through the whole process, right from installation , set up , and writing your first program in Python. We will even make real life projects. \n",
        "\n",
        "#### What did you learn from the post today? \n",
        "\n",
        "Feel free to share with me your thoughts and any questions, I'd be glad to answer them all. Plus also, I never stop learning, so am open to new ideas from you, we grow together. Hurray!!!\n",
        "\n",
        "> See you next time, Bye Friend!!!\n",
        "\n",
        "\n",
        "\n",
        "\n"
      ]
    },
    {
      "cell_type": "markdown",
      "metadata": {
        "id": "CbPMpjaE-bXz"
      },
      "source": [
        ""
      ]
    },
    {
      "cell_type": "code",
      "metadata": {
        "id": "7CEb8Ics9etj"
      },
      "source": [
        ""
      ],
      "execution_count": null,
      "outputs": []
    }
  ]
}