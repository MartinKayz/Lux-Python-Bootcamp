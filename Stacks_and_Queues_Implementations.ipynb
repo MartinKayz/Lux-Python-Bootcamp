{
  "nbformat": 4,
  "nbformat_minor": 0,
  "metadata": {
    "colab": {
      "name": "Stacks and Queues - Implementations.ipynb",
      "provenance": [],
      "authorship_tag": "ABX9TyPk67frgDmoWWkehZn13VfZ",
      "include_colab_link": true
    },
    "kernelspec": {
      "name": "python3",
      "display_name": "Python 3"
    },
    "language_info": {
      "name": "python"
    }
  },
  "cells": [
    {
      "cell_type": "markdown",
      "metadata": {
        "id": "view-in-github",
        "colab_type": "text"
      },
      "source": [
        "<a href=\"https://colab.research.google.com/github/MartinKayz/Lux-Python-Bootcamp/blob/main/Stacks_and_Queues_Implementations.ipynb\" target=\"_parent\"><img src=\"https://colab.research.google.com/assets/colab-badge.svg\" alt=\"Open In Colab\"/></a>"
      ]
    },
    {
      "cell_type": "markdown",
      "metadata": {
        "id": "rOprbTDo04SY"
      },
      "source": [
        "# DATA STRUCTURES AND ALGORITHMS -- PYTHON\n",
        "\n",
        "## Data Structures\n",
        " Deal with the organization and storage of data in memory while a program is accessing it\n",
        "\n",
        "## Algorithms\n",
        "  Deal with a set of instructions that help with the processing of data\n",
        "\n",
        "  ### 1. Stacks\n",
        "A data structure that follows the `LAST IN FIRST OUT` principle. \n",
        "\n",
        "`push` adds an element to the top of the stack\n",
        "\n",
        "`pop` removes an element from the top of stack\n",
        "\n",
        "*Operations of Stacks*\n",
        "- Add\n",
        "- Delete\n",
        "- Traverse\n",
        "\n",
        "### 2. Queues\n",
        "A data structure that follows the `FIRST IN FIRST OUT` principle.\n",
        "\n",
        "So its easy to add elements from the back and remove them from the front.\n",
        "\n",
        "`enqueue` adds an element to the end of queue.\n",
        "\n",
        "`dequeue` removes an element from the beginning of the queue.\n",
        "\n",
        "*Operations on Queues*\n",
        "- Addition\n",
        "- Deletion\n",
        "- Traverse\n",
        "\n",
        "\n",
        "\n",
        "\n",
        "\n",
        "\n"
      ]
    },
    {
      "cell_type": "markdown",
      "metadata": {
        "id": "gYCYKOg4KZz0"
      },
      "source": [
        "## Using the built-In List to implement a Stack\n"
      ]
    },
    {
      "cell_type": "code",
      "metadata": {
        "colab": {
          "base_uri": "https://localhost:8080/"
        },
        "id": "k0pzkKxm1EiY",
        "outputId": "b278d942-28e1-4ec5-a7a6-1783dd862e9c"
      },
      "source": [
        "# Implementing the stack using the python List\n",
        "\n",
        "fruits = []\n",
        "\n",
        "fruits.append('cheeries')\n",
        "fruits.append(\"bananas\")\n",
        "fruits.append(\"Mangoes\")\n",
        "fruits.append(\"Avocadoes\")\n",
        "fruits"
      ],
      "execution_count": 19,
      "outputs": [
        {
          "output_type": "execute_result",
          "data": {
            "text/plain": [
              "['cheeries', 'bananas', 'Mangoes', 'Avocadoes']"
            ]
          },
          "metadata": {
            "tags": []
          },
          "execution_count": 19
        }
      ]
    },
    {
      "cell_type": "code",
      "metadata": {
        "colab": {
          "base_uri": "https://localhost:8080/"
        },
        "id": "8XSHsyCW62l8",
        "outputId": "6d3cd4f2-8a0e-4c4c-b38f-5bb5fa734ff9"
      },
      "source": [
        "# Illustrating the LAST-IN FIRST-OUT PRINCIPLE\n",
        "print('I am removing this element because it came last:', fruits.pop())\n",
        "print(\"Look at the new stack: \", fruits)\n"
      ],
      "execution_count": 20,
      "outputs": [
        {
          "output_type": "stream",
          "text": [
            "I am removing this element because it came last: Avocadoes\n",
            "Look at the new stack:  ['cheeries', 'bananas', 'Mangoes']\n"
          ],
          "name": "stdout"
        }
      ]
    },
    {
      "cell_type": "markdown",
      "metadata": {
        "id": "KIBw-Y0PKJD8"
      },
      "source": [
        "## Using Functions and List to implement a Stack"
      ]
    },
    {
      "cell_type": "code",
      "metadata": {
        "colab": {
          "base_uri": "https://localhost:8080/"
        },
        "id": "cEjHv7q9E37M",
        "outputId": "4f43843f-f7ae-4080-86fb-d316877ad723"
      },
      "source": [
        "# Implementing the Stack using functions and List\n",
        "\n",
        "# creating the stack\n",
        "\n",
        "def create_stack():\n",
        "  stack = []\n",
        "  return stack\n",
        "\n",
        "# checking if the stack is empty\n",
        "\n",
        "def check_isEmpty(stack):\n",
        "  return len(stack) == 0\n",
        "\n",
        "# adding elements to the stack\n",
        "\n",
        "def push(stack, item):\n",
        "  stack.append(item)\n",
        "  return stack\n",
        "\n",
        "# removing elements from the stack\n",
        "\n",
        "def pop(stack):\n",
        "  if check_isEmpty(stack):\n",
        "    return \"No items in the stack!\"\n",
        "  \n",
        "  stack.pop()\n",
        "\n",
        "# creating a stack object\n",
        "\n",
        "sick_people = create_stack()\n",
        "push(sick_people, \"James\")\n",
        "push(sick_people, \"Mary\")\n",
        "push(sick_people, \"Isaac\")\n",
        "push(sick_people, \"Panto\")\n",
        "print('currently the sick are:', sick_people)\n",
        "pop(sick_people)\n",
        "print('After treating the last person to come:', sick_people)\n"
      ],
      "execution_count": 15,
      "outputs": [
        {
          "output_type": "stream",
          "text": [
            "currently the sick are: ['James', 'Mary', 'Isaac', 'Panto']\n",
            "After treating the last person to come: ['James', 'Mary', 'Isaac']\n"
          ],
          "name": "stdout"
        }
      ]
    },
    {
      "cell_type": "code",
      "metadata": {
        "colab": {
          "base_uri": "https://localhost:8080/"
        },
        "id": "rNht91Hp7u0j",
        "outputId": "ca94359f-c2de-4b82-ab83-c6e2e07651a1"
      },
      "source": [
        "# implementing Queues\n",
        "\n",
        "import queue\n",
        "# we create an object of the queue\n",
        "food_serve = queue.Queue(maxsize=5)\n",
        "# we use the put method in this case to add elements\n",
        "food_serve.put(9)\n",
        "food_serve.put(\"cars\")\n",
        "print(food_serve)"
      ],
      "execution_count": 7,
      "outputs": [
        {
          "output_type": "stream",
          "text": [
            "<queue.Queue object at 0x7f30e9476f10>\n"
          ],
          "name": "stdout"
        }
      ]
    },
    {
      "cell_type": "code",
      "metadata": {
        "colab": {
          "base_uri": "https://localhost:8080/"
        },
        "id": "ePqwMROs96lL",
        "outputId": "0e366271-78d0-49d3-e35c-3d607b3f0d8e"
      },
      "source": [
        "# lets try accessing elements from our queue\n",
        "food_serve.get()"
      ],
      "execution_count": 8,
      "outputs": [
        {
          "output_type": "execute_result",
          "data": {
            "text/plain": [
              "9"
            ]
          },
          "metadata": {
            "tags": []
          },
          "execution_count": 8
        }
      ]
    },
    {
      "cell_type": "code",
      "metadata": {
        "colab": {
          "base_uri": "https://localhost:8080/",
          "height": 35
        },
        "id": "h9nE61iT_8kL",
        "outputId": "a8d436c2-d1fb-43ce-b4de-3ca42f4e9188"
      },
      "source": [
        "# and another one\n",
        "food_serve.get()"
      ],
      "execution_count": 9,
      "outputs": [
        {
          "output_type": "execute_result",
          "data": {
            "application/vnd.google.colaboratory.intrinsic+json": {
              "type": "string"
            },
            "text/plain": [
              "'cars'"
            ]
          },
          "metadata": {
            "tags": []
          },
          "execution_count": 9
        }
      ]
    },
    {
      "cell_type": "code",
      "metadata": {
        "id": "cllOLf2gAFH9"
      },
      "source": [
        "# just a little naughty\n",
        "#food_serve.get()\n",
        "# so the queue cannot tell that it is empty, keeps searching forever \n",
        "# this particular one searched for over a minute: A PR is needed here"
      ],
      "execution_count": 11,
      "outputs": []
    },
    {
      "cell_type": "code",
      "metadata": {
        "id": "Cj5i50LwAKOU"
      },
      "source": [
        ""
      ],
      "execution_count": null,
      "outputs": []
    },
    {
      "cell_type": "markdown",
      "metadata": {
        "id": "YGxyaHNeMDwg"
      },
      "source": [
        "## Using the deque class from Collections"
      ]
    },
    {
      "cell_type": "code",
      "metadata": {
        "colab": {
          "base_uri": "https://localhost:8080/"
        },
        "id": "6gTJ38FlMLh5",
        "outputId": "a21d50a4-6c98-420e-9b16-031026677d37"
      },
      "source": [
        "from collections import deque\n",
        "\n",
        "newest_phone = deque()\n",
        "# adding elements to the stack\n",
        "newest_phone.append('IPhone-4')\n",
        "newest_phone.append('IPhone-5')\n",
        "newest_phone.append('IPhone-6')\n",
        "newest_phone.append('IPhone-6S')\n",
        "print(newest_phone)"
      ],
      "execution_count": 21,
      "outputs": [
        {
          "output_type": "stream",
          "text": [
            "deque(['IPhone-4', 'IPhone-5', 'IPhone-6', 'IPhone-6S'])\n"
          ],
          "name": "stdout"
        }
      ]
    },
    {
      "cell_type": "code",
      "metadata": {
        "colab": {
          "base_uri": "https://localhost:8080/"
        },
        "id": "To1dKVm_Mvkv",
        "outputId": "c6c69974-bbd3-4f7c-9315-cf0f968fb91c"
      },
      "source": [
        "# remving elements from the stack\n",
        "print(\"Last in First Out principle applies again: \", newest_phone.pop(), 'will be removed! ' )\n",
        "print(newest_phone)\n"
      ],
      "execution_count": 22,
      "outputs": [
        {
          "output_type": "stream",
          "text": [
            "Last in First Out principle applies again:  IPhone-6S will be removed! \n",
            "deque(['IPhone-4', 'IPhone-5', 'IPhone-6'])\n"
          ],
          "name": "stdout"
        }
      ]
    },
    {
      "cell_type": "markdown",
      "metadata": {
        "id": "YtKgZqHzPWwT"
      },
      "source": [
        "## Using classes and Functions to Implement a Queue"
      ]
    },
    {
      "cell_type": "code",
      "metadata": {
        "colab": {
          "base_uri": "https://localhost:8080/"
        },
        "id": "0dtMY3zNPiEK",
        "outputId": "a918feb0-1386-497d-c3e0-518c6ece9a3a"
      },
      "source": [
        "class Queue:\n",
        "\n",
        "  def __init__(self):\n",
        "    self.queue = []\n",
        "\n",
        "  # adding elements\n",
        "\n",
        "  def enqueue(self,item):\n",
        "    x = self.queue.append(item)\n",
        "    #print(x, 'was added to the back of the queue')\n",
        "    print(self.queue)\n",
        "\n",
        "  # remove an element \n",
        "\n",
        "  def dequeue(self):\n",
        "    y =self.queue.pop(0)\n",
        "    print(y, 'was removed from the front of the queue')\n",
        "    print(self.queue)\n",
        "\n",
        "  \n",
        "  # display all elements\n",
        "\n",
        "  def display(self):\n",
        "\n",
        "    print(self.queue)\n",
        "  \n",
        "\n",
        "# adding elements to the queue\n",
        "movie_line = Queue()\n",
        "movie_line.enqueue(\"James\")\n",
        "movie_line.enqueue(\"Mary\")\n",
        "movie_line.enqueue(\"Elijah\")\n",
        "movie_line.enqueue(\"Sharon\")\n",
        "movie_line.enqueue(\"Emma\")\n",
        "movie_line.enqueue(\"Linda\")\n",
        "\n",
        "\n"
      ],
      "execution_count": 37,
      "outputs": [
        {
          "output_type": "stream",
          "text": [
            "['James']\n",
            "['James', 'Mary']\n",
            "['James', 'Mary', 'Elijah']\n",
            "['James', 'Mary', 'Elijah', 'Sharon']\n",
            "['James', 'Mary', 'Elijah', 'Sharon', 'Emma']\n",
            "['James', 'Mary', 'Elijah', 'Sharon', 'Emma', 'Linda']\n"
          ],
          "name": "stdout"
        }
      ]
    },
    {
      "cell_type": "code",
      "metadata": {
        "colab": {
          "base_uri": "https://localhost:8080/"
        },
        "id": "Chz1RU5ESIcX",
        "outputId": "f5d73aaf-8303-419d-b747-d0828fe61efe"
      },
      "source": [
        "# removing elements from the queue\n",
        "\n",
        "movie_line.dequeue()\n",
        "movie_line.dequeue()\n",
        "movie_line.dequeue()\n",
        "movie_line.dequeue()"
      ],
      "execution_count": 38,
      "outputs": [
        {
          "output_type": "stream",
          "text": [
            "James was removed from the front of the queue\n",
            "['Mary', 'Elijah', 'Sharon', 'Emma', 'Linda']\n",
            "Mary was removed from the front of the queue\n",
            "['Elijah', 'Sharon', 'Emma', 'Linda']\n",
            "Elijah was removed from the front of the queue\n",
            "['Sharon', 'Emma', 'Linda']\n",
            "Sharon was removed from the front of the queue\n",
            "['Emma', 'Linda']\n"
          ],
          "name": "stdout"
        }
      ]
    },
    {
      "cell_type": "code",
      "metadata": {
        "colab": {
          "base_uri": "https://localhost:8080/"
        },
        "id": "uk43MT_lS3kU",
        "outputId": "52d0f26d-6407-428d-df4b-9e31b26087ff"
      },
      "source": [
        "# displaying our Queue after those operations\n",
        "\n",
        "movie_line.display()"
      ],
      "execution_count": 39,
      "outputs": [
        {
          "output_type": "stream",
          "text": [
            "['Emma', 'Linda']\n"
          ],
          "name": "stdout"
        }
      ]
    },
    {
      "cell_type": "code",
      "metadata": {
        "id": "-CD6KRZQUVY8"
      },
      "source": [
        ""
      ],
      "execution_count": null,
      "outputs": []
    }
  ]
}