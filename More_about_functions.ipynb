{
  "nbformat": 4,
  "nbformat_minor": 0,
  "metadata": {
    "colab": {
      "name": "More-about-functions.ipynb",
      "provenance": [],
      "authorship_tag": "ABX9TyP5dgEufmi7fvb2nPjZfmSE",
      "include_colab_link": true
    },
    "kernelspec": {
      "name": "python3",
      "display_name": "Python 3"
    },
    "language_info": {
      "name": "python"
    }
  },
  "cells": [
    {
      "cell_type": "markdown",
      "metadata": {
        "id": "view-in-github",
        "colab_type": "text"
      },
      "source": [
        "<a href=\"https://colab.research.google.com/github/MartinKayz/Lux-Python-Bootcamp/blob/main/More_about_functions.ipynb\" target=\"_parent\"><img src=\"https://colab.research.google.com/assets/colab-badge.svg\" alt=\"Open In Colab\"/></a>"
      ]
    },
    {
      "cell_type": "markdown",
      "metadata": {
        "id": "wNkyFl7HAnv2"
      },
      "source": [
        "# Practice - Functions"
      ]
    },
    {
      "cell_type": "code",
      "metadata": {
        "colab": {
          "base_uri": "https://localhost:8080/"
        },
        "id": "5CUMKtM6AlFa",
        "outputId": "a7ed6c77-7575-4fe8-e12d-b6095b00ff7c"
      },
      "source": [
        "# is it a triangle\n",
        "\n",
        "def is_a_triangle(a,b,c):\n",
        "  if a + b <= c:\n",
        "    return False\n",
        "  if b + c <= a:\n",
        "    return False\n",
        "  if c + a <= b:\n",
        "    return False\n",
        "  return True\n",
        "\n",
        "\n",
        "#testing our functions\n",
        "\n",
        "print(is_a_triangle(1,1,1))\n",
        "print(is_a_triangle(2,3,6))"
      ],
      "execution_count": null,
      "outputs": [
        {
          "output_type": "stream",
          "text": [
            "True\n",
            "False\n"
          ],
          "name": "stdout"
        }
      ]
    },
    {
      "cell_type": "code",
      "metadata": {
        "colab": {
          "base_uri": "https://localhost:8080/"
        },
        "id": "o70pGw2iBSY1",
        "outputId": "6d48e69e-b5f4-44c7-ec6c-e157c53edf0c"
      },
      "source": [
        "# more compact version\n",
        "\n",
        "def is_a_triangle(x,y,z):\n",
        "  if x + y <= z or y + z <= x or z + x <= y:\n",
        "    return False\n",
        "  return True\n",
        "\n",
        "print(is_a_triangle(1,1,1))\n",
        "print(is_a_triangle(2,1,6))"
      ],
      "execution_count": null,
      "outputs": [
        {
          "output_type": "stream",
          "text": [
            "True\n",
            "False\n"
          ],
          "name": "stdout"
        }
      ]
    },
    {
      "cell_type": "code",
      "metadata": {
        "colab": {
          "base_uri": "https://localhost:8080/"
        },
        "id": "Uv0bS321CYtc",
        "outputId": "89a1067f-4358-497e-97a0-d2b5976306c4"
      },
      "source": [
        "# even more compact\n",
        "\n",
        "def is_a_triangle(d,e,f):\n",
        "  return d + e > f and e + f > d and f + d > e\n",
        "\n",
        "\n",
        "#testing \n",
        "print(is_a_triangle(3,3,3))\n",
        "print(is_a_triangle(2,3,2))\n"
      ],
      "execution_count": null,
      "outputs": [
        {
          "output_type": "stream",
          "text": [
            "True\n",
            "True\n"
          ],
          "name": "stdout"
        }
      ]
    },
    {
      "cell_type": "code",
      "metadata": {
        "colab": {
          "base_uri": "https://localhost:8080/"
        },
        "id": "g_ZofEElDdAs",
        "outputId": "97350240-07fd-4b0e-bf47-cdb4b6acd0a0"
      },
      "source": [
        "# Making it interactive\n",
        "\n",
        "def is_a_triangle(g,h,i):\n",
        "  return g + h > i and h + i > g and i + g > h\n",
        "\n",
        "g = float(input('Enter the length of the first side...'))\n",
        "print()\n",
        "h = float(input('Enter the length of the second side...'))\n",
        "print()\n",
        "i = float(input('Enter the length of the third side...'))\n",
        "\n",
        "\n",
        "#testing\n",
        "if is_a_triangle(g,h,i):\n",
        "  print('Yes it can be a triangle')\n",
        "else:\n",
        "  print('No it may not ')"
      ],
      "execution_count": null,
      "outputs": [
        {
          "output_type": "stream",
          "text": [
            "Enter the length of the first side...5\n",
            "\n",
            "Enter the length of the second side...5\n",
            "\n",
            "Enter the length of the third side...5\n",
            "Yes it can be a triangle\n"
          ],
          "name": "stdout"
        }
      ]
    },
    {
      "cell_type": "code",
      "metadata": {
        "colab": {
          "base_uri": "https://localhost:8080/"
        },
        "id": "Ya3c1K_6E5_2",
        "outputId": "8c232c1c-6e32-408b-961d-77bfa2fe04b7"
      },
      "source": [
        "# determining if it is a right angled triangle\n",
        "\n",
        "def is_a_triangle(a,b,c):\n",
        "  return a + b > c and b + c > a and c + a > b\n",
        "\n",
        "def is_a_right_triangle(a,b,c):\n",
        "  if not is_a_triangle(a,b,c):\n",
        "    return False\n",
        "    # testing with the pythogras theorem\n",
        "  if c > b and c > a:\n",
        "    return c ** 2 == a ** 2 + b ** 2\n",
        "  if a  > b and a > c:\n",
        "    return a ** 2 == b ** 2 + c ** 2\n",
        "  if b  > a and b > c:\n",
        "    return b ** 2 == c ** 2 + a ** 2\n",
        "\n",
        "a = float(input('Enter the length of the first side ...'))\n",
        "print()\n",
        "b = float(input('Enter the length of the second side ...'))\n",
        "print()\n",
        "c = float(input('Enter the length of the third side ...'))\n",
        "\n",
        "\n",
        "print(is_a_right_triangle(a,b,c))"
      ],
      "execution_count": null,
      "outputs": [
        {
          "output_type": "stream",
          "text": [
            "Enter the length of the first side ...1\n",
            "\n",
            "Enter the length of the second side ...1\n",
            "\n",
            "Enter the length of the third side ...1\n",
            "None\n"
          ],
          "name": "stdout"
        }
      ]
    },
    {
      "cell_type": "markdown",
      "metadata": {
        "id": "EufYqoCCMExy"
      },
      "source": [
        "## Finding area, using herons"
      ]
    },
    {
      "cell_type": "code",
      "metadata": {
        "colab": {
          "base_uri": "https://localhost:8080/"
        },
        "id": "7Ap_rmgpIWKQ",
        "outputId": "c914f79f-5d18-403b-deaf-1a20b27518a8"
      },
      "source": [
        "def is_a_triangle(a,b,c):\n",
        "  return a + b > c and b + c > a and c + a > b\n",
        "\n",
        "def herons(a,b,c):\n",
        "  s = (a + b + c) / 2\n",
        "  return (s * (s-a) * (s-b) * (s-c)) ** 0.5\n",
        "\n",
        "def area_of_triangle(a,b,c):\n",
        "  if not is_a_triangle(a,b,c):\n",
        "    return None\n",
        "  return herons(a,b,c)\n",
        "\n",
        "a = float(input('Enter the length of the first side ...'))\n",
        "print()\n",
        "b = float(input('Enter the length of the second side ...'))\n",
        "print()\n",
        "c = float(input('Enter the length of the third side ...'))\n",
        "\n",
        "\n",
        "print(area_of_triangle(a,b,c))\n"
      ],
      "execution_count": null,
      "outputs": [
        {
          "output_type": "stream",
          "text": [
            "Enter the length of the first side ...5\n",
            "\n",
            "Enter the length of the second side ...3\n",
            "\n",
            "Enter the length of the third side ...4\n",
            "6.0\n"
          ],
          "name": "stdout"
        }
      ]
    },
    {
      "cell_type": "markdown",
      "metadata": {
        "id": "OthV1cJg5Rki"
      },
      "source": [
        "## Factorials of a number\n"
      ]
    },
    {
      "cell_type": "code",
      "metadata": {
        "id": "eh6Uy0nKNEvo",
        "colab": {
          "base_uri": "https://localhost:8080/"
        },
        "outputId": "ae92c83d-742f-4239-be0b-fc16d95854f2"
      },
      "source": [
        "def factorial_function(n):\n",
        "  if n < 0:\n",
        "    return None\n",
        "  if n < 2:\n",
        "    return 1\n",
        "  \n",
        "  factorial = 1\n",
        "  for i in range(2, n + 1):\n",
        "    factorial *= i\n",
        "  return factorial\n",
        "\n",
        "\n",
        "# testing: first 5 natural numbers\n",
        "for n in range(1,6):\n",
        "  print(n, factorial_function(n), sep=' factorial is...') "
      ],
      "execution_count": 2,
      "outputs": [
        {
          "output_type": "stream",
          "text": [
            "1 factorial is...1\n",
            "2 factorial is...2\n",
            "3 factorial is...6\n",
            "4 factorial is...24\n",
            "5 factorial is...120\n"
          ],
          "name": "stdout"
        }
      ]
    },
    {
      "cell_type": "markdown",
      "metadata": {
        "id": "gtE99e6lEsCv"
      },
      "source": [
        "## Fibonnaci numbers"
      ]
    },
    {
      "cell_type": "code",
      "metadata": {
        "colab": {
          "base_uri": "https://localhost:8080/"
        },
        "id": "dbcIHkkj9sN7",
        "outputId": "ae60fd97-9db1-418f-b430-277b35b5aa23"
      },
      "source": [
        "def fib(n):\n",
        "  if n < 1:\n",
        "    return None\n",
        "  if n < 3:\n",
        "    return 1\n",
        "  \n",
        "  the_fib = 0\n",
        "  # element 1 and 2 are equal to 1\n",
        "  elem_1 = elem_2 = 1\n",
        "  for i in range(3,n+1):\n",
        "    the_fib = elem_1 + elem_2\n",
        "    elem_1 , elem_2 = elem_2, the_fib\n",
        "  return the_fib\n",
        "\n",
        "# testing out for first 10\n",
        "for n in range(1,11):\n",
        "  print(n, fib(n), sep=' --> ')"
      ],
      "execution_count": 4,
      "outputs": [
        {
          "output_type": "stream",
          "text": [
            "1 --> 1\n",
            "2 --> 1\n",
            "3 --> 2\n",
            "4 --> 3\n",
            "5 --> 5\n",
            "6 --> 8\n",
            "7 --> 13\n",
            "8 --> 21\n",
            "9 --> 34\n",
            "10 --> 55\n"
          ],
          "name": "stdout"
        }
      ]
    },
    {
      "cell_type": "markdown",
      "metadata": {
        "id": "aOsyI_OKI7-v"
      },
      "source": [
        "# Fibonnaci the recursive way"
      ]
    },
    {
      "cell_type": "code",
      "metadata": {
        "colab": {
          "base_uri": "https://localhost:8080/"
        },
        "id": "Z6pFlLuAFvq2",
        "outputId": "6bc29d98-64ee-4e25-92a5-f35ffd820c54"
      },
      "source": [
        "def fib_r(n):\n",
        "  if n < 1:\n",
        "    return None\n",
        "  if n < 3:\n",
        "    return 1\n",
        "  return fib_r(n - 1) + fib_r(n - 2)\n",
        "\n",
        "# testing it out\n",
        "for i in range(11):\n",
        "  print(i, fib_r(i), sep=' --> ')"
      ],
      "execution_count": 6,
      "outputs": [
        {
          "output_type": "stream",
          "text": [
            "0 --> None\n",
            "1 --> 1\n",
            "2 --> 1\n",
            "3 --> 2\n",
            "4 --> 3\n",
            "5 --> 5\n",
            "6 --> 8\n",
            "7 --> 13\n",
            "8 --> 21\n",
            "9 --> 34\n",
            "10 --> 55\n"
          ],
          "name": "stdout"
        }
      ]
    },
    {
      "cell_type": "markdown",
      "metadata": {
        "id": "Cr_ispP1Jo06"
      },
      "source": [
        "## Factorial the recursive way"
      ]
    },
    {
      "cell_type": "code",
      "metadata": {
        "colab": {
          "base_uri": "https://localhost:8080/"
        },
        "id": "SCVypcjyJdAG",
        "outputId": "322a431e-e14c-4a07-ac49-090744198759"
      },
      "source": [
        "def fact(n):\n",
        "  if n < 0:\n",
        "    return None\n",
        "  if n < 2:\n",
        "    return 1\n",
        "  return n * fact(n - 1)\n",
        "\n",
        "# testing for 10 numbers\n",
        "for i in range(11):\n",
        "  print(i, ' factorial is ', fact(i))"
      ],
      "execution_count": 7,
      "outputs": [
        {
          "output_type": "stream",
          "text": [
            "0  factorial is  1\n",
            "1  factorial is  1\n",
            "2  factorial is  2\n",
            "3  factorial is  6\n",
            "4  factorial is  24\n",
            "5  factorial is  120\n",
            "6  factorial is  720\n",
            "7  factorial is  5040\n",
            "8  factorial is  40320\n",
            "9  factorial is  362880\n",
            "10  factorial is  3628800\n"
          ],
          "name": "stdout"
        }
      ]
    },
    {
      "cell_type": "code",
      "metadata": {
        "colab": {
          "base_uri": "https://localhost:8080/"
        },
        "id": "4xObExoPLMDf",
        "outputId": "123aad3b-91f6-4279-a968-3bc52b4cc88e"
      },
      "source": [
        "def fun(a):\n",
        "  if a > 30:\n",
        "    return 3\n",
        "  else:\n",
        "    return a + fun(a + 3)\n",
        "\n",
        "print(fun(25))"
      ],
      "execution_count": 8,
      "outputs": [
        {
          "output_type": "stream",
          "text": [
            "56\n"
          ],
          "name": "stdout"
        }
      ]
    },
    {
      "cell_type": "code",
      "metadata": {
        "id": "ZAJN-kZQM-2D"
      },
      "source": [
        ""
      ],
      "execution_count": null,
      "outputs": []
    }
  ]
}