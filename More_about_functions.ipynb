{
  "nbformat": 4,
  "nbformat_minor": 0,
  "metadata": {
    "colab": {
      "name": "More-about-functions.ipynb",
      "provenance": [],
      "authorship_tag": "ABX9TyPlLwkvXW2tMcNFBkMyGWrG",
      "include_colab_link": true
    },
    "kernelspec": {
      "name": "python3",
      "display_name": "Python 3"
    },
    "language_info": {
      "name": "python"
    }
  },
  "cells": [
    {
      "cell_type": "markdown",
      "metadata": {
        "id": "view-in-github",
        "colab_type": "text"
      },
      "source": [
        "<a href=\"https://colab.research.google.com/github/MartinKayz/Lux-Python-Bootcamp/blob/main/More_about_functions.ipynb\" target=\"_parent\"><img src=\"https://colab.research.google.com/assets/colab-badge.svg\" alt=\"Open In Colab\"/></a>"
      ]
    },
    {
      "cell_type": "markdown",
      "metadata": {
        "id": "wNkyFl7HAnv2"
      },
      "source": [
        "# Practice - Functions"
      ]
    },
    {
      "cell_type": "code",
      "metadata": {
        "colab": {
          "base_uri": "https://localhost:8080/"
        },
        "id": "5CUMKtM6AlFa",
        "outputId": "a7ed6c77-7575-4fe8-e12d-b6095b00ff7c"
      },
      "source": [
        "# is it a triangle\n",
        "\n",
        "def is_a_triangle(a,b,c):\n",
        "  if a + b <= c:\n",
        "    return False\n",
        "  if b + c <= a:\n",
        "    return False\n",
        "  if c + a <= b:\n",
        "    return False\n",
        "  return True\n",
        "\n",
        "\n",
        "#testing our functions\n",
        "\n",
        "print(is_a_triangle(1,1,1))\n",
        "print(is_a_triangle(2,3,6))"
      ],
      "execution_count": 1,
      "outputs": [
        {
          "output_type": "stream",
          "text": [
            "True\n",
            "False\n"
          ],
          "name": "stdout"
        }
      ]
    },
    {
      "cell_type": "code",
      "metadata": {
        "colab": {
          "base_uri": "https://localhost:8080/"
        },
        "id": "o70pGw2iBSY1",
        "outputId": "6d48e69e-b5f4-44c7-ec6c-e157c53edf0c"
      },
      "source": [
        "# more compact version\n",
        "\n",
        "def is_a_triangle(x,y,z):\n",
        "  if x + y <= z or y + z <= x or z + x <= y:\n",
        "    return False\n",
        "  return True\n",
        "\n",
        "print(is_a_triangle(1,1,1))\n",
        "print(is_a_triangle(2,1,6))"
      ],
      "execution_count": 3,
      "outputs": [
        {
          "output_type": "stream",
          "text": [
            "True\n",
            "False\n"
          ],
          "name": "stdout"
        }
      ]
    },
    {
      "cell_type": "code",
      "metadata": {
        "colab": {
          "base_uri": "https://localhost:8080/"
        },
        "id": "Uv0bS321CYtc",
        "outputId": "89a1067f-4358-497e-97a0-d2b5976306c4"
      },
      "source": [
        "# even more compact\n",
        "\n",
        "def is_a_triangle(d,e,f):\n",
        "  return d + e > f and e + f > d and f + d > e\n",
        "\n",
        "\n",
        "#testing \n",
        "print(is_a_triangle(3,3,3))\n",
        "print(is_a_triangle(2,3,2))\n"
      ],
      "execution_count": 4,
      "outputs": [
        {
          "output_type": "stream",
          "text": [
            "True\n",
            "True\n"
          ],
          "name": "stdout"
        }
      ]
    },
    {
      "cell_type": "code",
      "metadata": {
        "colab": {
          "base_uri": "https://localhost:8080/"
        },
        "id": "g_ZofEElDdAs",
        "outputId": "97350240-07fd-4b0e-bf47-cdb4b6acd0a0"
      },
      "source": [
        "# Making it interactive\n",
        "\n",
        "def is_a_triangle(g,h,i):\n",
        "  return g + h > i and h + i > g and i + g > h\n",
        "\n",
        "g = float(input('Enter the length of the first side...'))\n",
        "print()\n",
        "h = float(input('Enter the length of the second side...'))\n",
        "print()\n",
        "i = float(input('Enter the length of the third side...'))\n",
        "\n",
        "\n",
        "#testing\n",
        "if is_a_triangle(g,h,i):\n",
        "  print('Yes it can be a triangle')\n",
        "else:\n",
        "  print('No it may not ')"
      ],
      "execution_count": 5,
      "outputs": [
        {
          "output_type": "stream",
          "text": [
            "Enter the length of the first side...5\n",
            "\n",
            "Enter the length of the second side...5\n",
            "\n",
            "Enter the length of the third side...5\n",
            "Yes it can be a triangle\n"
          ],
          "name": "stdout"
        }
      ]
    },
    {
      "cell_type": "code",
      "metadata": {
        "colab": {
          "base_uri": "https://localhost:8080/"
        },
        "id": "Ya3c1K_6E5_2",
        "outputId": "8c232c1c-6e32-408b-961d-77bfa2fe04b7"
      },
      "source": [
        "# determining if it is a right angled triangle\n",
        "\n",
        "def is_a_triangle(a,b,c):\n",
        "  return a + b > c and b + c > a and c + a > b\n",
        "\n",
        "def is_a_right_triangle(a,b,c):\n",
        "  if not is_a_triangle(a,b,c):\n",
        "    return False\n",
        "    # testing with the pythogras theorem\n",
        "  if c > b and c > a:\n",
        "    return c ** 2 == a ** 2 + b ** 2\n",
        "  if a  > b and a > c:\n",
        "    return a ** 2 == b ** 2 + c ** 2\n",
        "  if b  > a and b > c:\n",
        "    return b ** 2 == c ** 2 + a ** 2\n",
        "\n",
        "a = float(input('Enter the length of the first side ...'))\n",
        "print()\n",
        "b = float(input('Enter the length of the second side ...'))\n",
        "print()\n",
        "c = float(input('Enter the length of the third side ...'))\n",
        "\n",
        "\n",
        "print(is_a_right_triangle(a,b,c))"
      ],
      "execution_count": 10,
      "outputs": [
        {
          "output_type": "stream",
          "text": [
            "Enter the length of the first side ...1\n",
            "\n",
            "Enter the length of the second side ...1\n",
            "\n",
            "Enter the length of the third side ...1\n",
            "None\n"
          ],
          "name": "stdout"
        }
      ]
    },
    {
      "cell_type": "markdown",
      "metadata": {
        "id": "EufYqoCCMExy"
      },
      "source": [
        "## Finding area, using herons"
      ]
    },
    {
      "cell_type": "code",
      "metadata": {
        "colab": {
          "base_uri": "https://localhost:8080/"
        },
        "id": "7Ap_rmgpIWKQ",
        "outputId": "c914f79f-5d18-403b-deaf-1a20b27518a8"
      },
      "source": [
        "def is_a_triangle(a,b,c):\n",
        "  return a + b > c and b + c > a and c + a > b\n",
        "\n",
        "def herons(a,b,c):\n",
        "  s = (a + b + c) / 2\n",
        "  return (s * (s-a) * (s-b) * (s-c)) ** 0.5\n",
        "\n",
        "def area_of_triangle(a,b,c):\n",
        "  if not is_a_triangle(a,b,c):\n",
        "    return None\n",
        "  return herons(a,b,c)\n",
        "\n",
        "a = float(input('Enter the length of the first side ...'))\n",
        "print()\n",
        "b = float(input('Enter the length of the second side ...'))\n",
        "print()\n",
        "c = float(input('Enter the length of the third side ...'))\n",
        "\n",
        "\n",
        "print(area_of_triangle(a,b,c))\n"
      ],
      "execution_count": 11,
      "outputs": [
        {
          "output_type": "stream",
          "text": [
            "Enter the length of the first side ...5\n",
            "\n",
            "Enter the length of the second side ...3\n",
            "\n",
            "Enter the length of the third side ...4\n",
            "6.0\n"
          ],
          "name": "stdout"
        }
      ]
    },
    {
      "cell_type": "code",
      "metadata": {
        "id": "eh6Uy0nKNEvo"
      },
      "source": [
        ""
      ],
      "execution_count": null,
      "outputs": []
    }
  ]
}