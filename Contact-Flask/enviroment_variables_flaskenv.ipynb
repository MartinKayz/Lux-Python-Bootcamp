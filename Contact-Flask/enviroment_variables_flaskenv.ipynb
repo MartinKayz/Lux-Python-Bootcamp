{
 "cells": [
  {
   "cell_type": "markdown",
   "source": [
    "# Automatically load enviroment variables in Flask\n",
    "\n",
    "\n",
    "Are you tired of setting enviroment variables every time you are running your flask app?\n",
    "Variables like *FLASK_APP* or *FLASK_ENV*\n",
    "\n",
    "Or do you want to save your database credentials in a file other than your flask app?\n",
    "Save you the burden of sharing your credentials by mistake on github...!\n",
    "\n",
    "\n",
    " ## Follow these instructions\n"
   ],
   "metadata": {}
  },
  {
   "cell_type": "markdown",
   "source": [
    "### Install python-dotenv\n",
    "\n",
    "`pip install python-dotenv`\n",
    "\n",
    "### Create `.env` and `.flaskenv` files in your root folder\n",
    "\n",
    "On **Bash** , run `touch .env` and `touch .flaskenv`\n",
    "\n"
   ],
   "metadata": {}
  },
  {
   "cell_type": "markdown",
   "source": [
    "### Put in your flask enviroment variables in `.flaskenv`\n",
    "\n",
    "In **.flaskenv** file;\n",
    "\n",
    "FLASK_ENV - Controls the environment.\n",
    "\n",
    "FLASK_DEBUG - Enables debug mode.\n",
    "\n",
    "FLASK_RUN_EXTRA_FILES - A list of files that will be watched by the reloader in addition to the Python modules.\n",
    "\n",
    "FLASK_RUN_HOST - The host you want to bind your app to.\n",
    "\n",
    "FLASK_RUN_PORT - The port you want to use.\n",
    "\n",
    "FLASK_RUN_CERT - A certificate file for so your app can be run with HTTPS.\n",
    "\n",
    "FLASK_RUN_KEY - The key file for your cert.\n",
    "\n",
    "*for example; FLASK_APP=app.py*\n",
    "\n"
   ],
   "metadata": {}
  },
  {
   "cell_type": "markdown",
   "source": [
    "### Put in your other secret variables in `.env`\n",
    "\n",
    "These variables line database credentials, passwords, secret keys etc are used in our app\n",
    "\n",
    "In **.env** file\n",
    "*for example*\n",
    "\n",
    "SECRET_KEY=topsecretkey\n",
    "\n",
    "API_KEY=donotsharethisapikeywithanyone\n",
    "\n",
    "DATABASE_PASSWORD=mysqlpassword\n",
    "\n",
    "DATABASE_USER=mysqluser\n",
    "\n"
   ],
   "metadata": {}
  },
  {
   "cell_type": "markdown",
   "source": [
    "### Create a `settings.py` file\n",
    "\n",
    "*Note: These variables located in `.env` are not served automatically, we need to load them through `settings.py`*\n",
    "\n",
    "In **settings.py**,\n",
    "\n",
    "`from os import environ`\n",
    "\n",
    "`SECRET_KEY=environ.get('SECRET_KEY)`\n",
    "\n",
    "`API_KEY=environ.get('API_KEY')`\n",
    "\n"
   ],
   "metadata": {}
  },
  {
   "cell_type": "markdown",
   "source": [
    "### Add the configurations to our app\n",
    "\n",
    "In your `app.py` , the file that has your flask object.\n",
    "\n",
    "`app.config.from_pyfile('settings.py')`\n",
    "\n",
    "Boom, all your secret enviroment variables will be loaded to your app, but secretly\n",
    "\n"
   ],
   "metadata": {}
  },
  {
   "cell_type": "markdown",
   "source": [],
   "metadata": {}
  }
 ],
 "metadata": {
  "orig_nbformat": 4,
  "language_info": {
   "name": "python",
   "version": "3.8.10"
  },
  "kernelspec": {
   "name": "python3",
   "display_name": "Python 3.8.10 64-bit ('contact-env': venv)"
  },
  "interpreter": {
   "hash": "26d2668d60984d91f0f2b6aa0f49c5ac0d4063b24fc32fa9b711e62a40ef5f6a"
  }
 },
 "nbformat": 4,
 "nbformat_minor": 2
}