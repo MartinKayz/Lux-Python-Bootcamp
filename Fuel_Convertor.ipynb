{
  "nbformat": 4,
  "nbformat_minor": 0,
  "metadata": {
    "colab": {
      "name": "Fuel Convertor.ipynb",
      "provenance": [],
      "authorship_tag": "ABX9TyMe2F9RWc8LeSheeDt+cjla",
      "include_colab_link": true
    },
    "kernelspec": {
      "name": "python3",
      "display_name": "Python 3"
    },
    "language_info": {
      "name": "python"
    }
  },
  "cells": [
    {
      "cell_type": "markdown",
      "metadata": {
        "id": "view-in-github",
        "colab_type": "text"
      },
      "source": [
        "<a href=\"https://colab.research.google.com/github/MartinKayz/Lux-Python-Bootcamp/blob/main/Fuel_Convertor.ipynb\" target=\"_parent\"><img src=\"https://colab.research.google.com/assets/colab-badge.svg\" alt=\"Open In Colab\"/></a>"
      ]
    },
    {
      "cell_type": "markdown",
      "metadata": {
        "id": "M1GaPJNXHMTY"
      },
      "source": [
        "# FUEL CONVERTOR\n",
        "\n",
        "A car's fuel consumption may be expressed in many different ways. For example,   \n",
        "- in Europe, it is shown as the amount of fuel consumed per 100 kilometers.\n",
        "\n",
        "- In the USA, it is shown as the number of miles traveled by a car using one gallon of fuel.\n",
        "\n",
        "Your task is to write a pair of functions converting l/100km into mpg, and vice versa.\n",
        "\n",
        "## Hint\n",
        "- American mile = 1609.344 metres;\n",
        "- American gallon = 3.785411784 litres."
      ]
    },
    {
      "cell_type": "code",
      "metadata": {
        "id": "Bw4Mk6M7HoVj"
      },
      "source": [
        "\n",
        "def liters_100km_to_miles_gallon(liters):\n",
        "\n",
        "  \"\"\"\n",
        "    Given Litres, we need to convert them to gallons.\n",
        "    Then, since we want to convert to miles/gallon,\n",
        "    we convert the 100km to metres first,\n",
        "    then convert the metres to miles.\n",
        "\n",
        "    Our aim being to get the fuel consumed per mile, \n",
        "    we divide the miles by the gallons.\n",
        "    \"\"\"\n",
        "    \n",
        "  ltre_gall = 3.785411784\n",
        "  conver_scale = 1 / ltre_gall\n",
        "  galls = conver_scale * liters\n",
        "  km_mters = 100 * 1000\n",
        "  mtrs_miles_conv = 1 / 1609.344\n",
        "  miles = km_mters * mtrs_miles_conv\n",
        "  \n",
        "  fuel = miles / galls\n",
        "  \n",
        "  return fuel\n",
        "    \n"
      ],
      "execution_count": 2,
      "outputs": []
    },
    {
      "cell_type": "code",
      "metadata": {
        "id": "pHjuZehtKgCL"
      },
      "source": [
        "def miles_gallon_to_liters_100km(miles):\n",
        "  \"\"\"\n",
        "    Given miles,we first convert them to metres,\n",
        "    we then convert them to kilometers, which in turn\n",
        "    are represented in terms of 100km.\n",
        "    Since we want to get the fuel consumed per 100km,\n",
        "    we divide the litres by the kilometers\n",
        "  \"\"\"\n",
        "    \n",
        "  metres = 1609.344 * miles\n",
        "  mtr_km_conv = 1 / 1000\n",
        "  km = metres * mtr_km_conv\n",
        "  per_km = km / 100\n",
        "  \n",
        "  gal_lit = 3.785411784\n",
        "  \n",
        "  fuel = gal_lit / per_km\n",
        "  \n",
        "  return fuel\n",
        "    \n",
        "    \n",
        "    \n",
        "    "
      ],
      "execution_count": 3,
      "outputs": []
    },
    {
      "cell_type": "code",
      "metadata": {
        "colab": {
          "base_uri": "https://localhost:8080/"
        },
        "id": "GZp8vKB9LEqo",
        "outputId": "69202c89-55e7-481b-d6b3-48be56581201"
      },
      "source": [
        "\"\"\" TESTING OUR FUNCTIONS \"\"\"\n",
        "\n",
        "print(liters_100km_to_miles_gallon(3.9))\n",
        "print(liters_100km_to_miles_gallon(7.5))\n",
        "print(liters_100km_to_miles_gallon(10.))\n",
        "print(miles_gallon_to_liters_100km(60.3))\n",
        "print(miles_gallon_to_liters_100km(31.4))\n",
        "print(miles_gallon_to_liters_100km(23.5))"
      ],
      "execution_count": 4,
      "outputs": [
        {
          "output_type": "stream",
          "text": [
            "60.31143162393162\n",
            "31.361944444444436\n",
            "23.52145833333333\n",
            "3.9007393587617467\n",
            "7.490910297239916\n",
            "10.009131205673757\n"
          ],
          "name": "stdout"
        }
      ]
    },
    {
      "cell_type": "code",
      "metadata": {
        "id": "13UcZULNMNui"
      },
      "source": [
        ""
      ],
      "execution_count": null,
      "outputs": []
    }
  ]
}