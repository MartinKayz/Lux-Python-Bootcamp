{
  "nbformat": 4,
  "nbformat_minor": 0,
  "metadata": {
    "colab": {
      "name": "Tuples&Dictionaries.ipynb",
      "provenance": [],
      "authorship_tag": "ABX9TyO5YDNWiEoJ/l1vNTPwvSoR",
      "include_colab_link": true
    },
    "kernelspec": {
      "name": "python3",
      "display_name": "Python 3"
    },
    "language_info": {
      "name": "python"
    }
  },
  "cells": [
    {
      "cell_type": "markdown",
      "metadata": {
        "id": "view-in-github",
        "colab_type": "text"
      },
      "source": [
        "<a href=\"https://colab.research.google.com/github/MartinKayz/Lux-Python-Bootcamp/blob/main/Tuples%26Dictionaries.ipynb\" target=\"_parent\"><img src=\"https://colab.research.google.com/assets/colab-badge.svg\" alt=\"Open In Colab\"/></a>"
      ]
    },
    {
      "cell_type": "markdown",
      "metadata": {
        "id": "uY3BZ1yssn_k"
      },
      "source": [
        "#Tuples\n",
        "\n",
        "Immutable Python Sequences: cannot be modified In situ\n",
        "\n",
        "Tuples are ordered and unchangeable (immutable) collections of data\n",
        "\n",
        "Each tuple element may be of a different type (i.e., integers, strings, booleans, etc.).\n",
        "\n",
        "What is more, tuples can contain other tuples or lists (and the other way round).\n"
      ]
    },
    {
      "cell_type": "code",
      "metadata": {
        "colab": {
          "base_uri": "https://localhost:8080/"
        },
        "id": "Q2wTwm9UrgE3",
        "outputId": "91395b86-6d24-4da4-cd70-be5a18482c26"
      },
      "source": [
        "tuple_1 = (1,2,3,4) # They prefer to use parenthesis\n",
        "tuple_2 = 1.,2.,3.,4.\n",
        "\n",
        "print(tuple_1)\n",
        "print(tuple_2)"
      ],
      "execution_count": 1,
      "outputs": [
        {
          "output_type": "stream",
          "text": [
            "(1, 2, 3, 4)\n",
            "(1.0, 2.0, 3.0, 4.0)\n"
          ],
          "name": "stdout"
        }
      ]
    },
    {
      "cell_type": "code",
      "metadata": {
        "colab": {
          "base_uri": "https://localhost:8080/"
        },
        "id": "jbW9R4i-tQEP",
        "outputId": "7a2f953d-eef1-4c5c-9dad-ba048ffa7476"
      },
      "source": [
        "# Creating empty tuple\n",
        "tuple_3 = ()\n",
        "\n",
        "# creating a one-element tuple\n",
        "tuple_4 = (5, ) # take note of the trailing comma\n",
        "\n",
        "print(tuple_3)\n",
        "print(tuple_4)\n"
      ],
      "execution_count": 2,
      "outputs": [
        {
          "output_type": "stream",
          "text": [
            "()\n",
            "(5,)\n"
          ],
          "name": "stdout"
        }
      ]
    },
    {
      "cell_type": "code",
      "metadata": {
        "colab": {
          "base_uri": "https://localhost:8080/"
        },
        "id": "NzlDrH0mt-U9",
        "outputId": "c2a6585a-ef77-4123-da46-dad573132ee7"
      },
      "source": [
        "tuple_5 = 2.,\n",
        "print(tuple_5)"
      ],
      "execution_count": 3,
      "outputs": [
        {
          "output_type": "stream",
          "text": [
            "(2.0,)\n"
          ],
          "name": "stdout"
        }
      ]
    },
    {
      "cell_type": "markdown",
      "metadata": {
        "id": "7tmroqUausH5"
      },
      "source": [
        "## How to use tuples"
      ]
    },
    {
      "cell_type": "code",
      "metadata": {
        "colab": {
          "base_uri": "https://localhost:8080/"
        },
        "id": "iDk9qTC3uSnC",
        "outputId": "a2d38c59-f7fb-41d7-aef5-d27e79543687"
      },
      "source": [
        "my_marks = (70,84,80,91)\n",
        "\n",
        "print(my_marks[0])\n",
        "print(my_marks[-1])\n",
        "print(my_marks[1:])\n",
        "print(my_marks[:-2])\n",
        "\n",
        "for elem in my_marks:\n",
        "  print(elem)"
      ],
      "execution_count": 4,
      "outputs": [
        {
          "output_type": "stream",
          "text": [
            "70\n",
            "91\n",
            "(84, 80, 91)\n",
            "(70, 84)\n",
            "70\n",
            "84\n",
            "80\n",
            "91\n"
          ],
          "name": "stdout"
        }
      ]
    },
    {
      "cell_type": "code",
      "metadata": {
        "colab": {
          "base_uri": "https://localhost:8080/"
        },
        "id": "ACZPFEO1vQZM",
        "outputId": "d9394ea8-d454-4fb9-cb46-0d56401ece5b"
      },
      "source": [
        "# len() - accepts tuples and returns the number of elems\n",
        "# + operator - can join tuples together\n",
        "# * operator - can multiply tuples together\n",
        "# in and not in - works same as in lists\n",
        "\n",
        "\n",
        "my_passwords = ('pass@21', 123456, 'whyNotSecureIn@2021')\n",
        "\n",
        "more_passcodes = my_passwords + ('Ilovepasscde242!', '9jnvef3jg')\n",
        "current_passcodes = my_passwords * 3\n",
        "\n",
        "print(more_passcodes)\n",
        "print(current_passcodes)\n",
        "print(len(more_passcodes))\n",
        "print(len(current_passcodes))\n",
        "print(123456 in current_passcodes)\n",
        "print('9jnvef3jg' not in more_passcodes)\n"
      ],
      "execution_count": 6,
      "outputs": [
        {
          "output_type": "stream",
          "text": [
            "('pass@21', 123456, 'whyNotSecureIn@2021', 'Ilovepasscde242!', '9jnvef3jg')\n",
            "('pass@21', 123456, 'whyNotSecureIn@2021', 'pass@21', 123456, 'whyNotSecureIn@2021', 'pass@21', 123456, 'whyNotSecureIn@2021')\n",
            "5\n",
            "9\n",
            "True\n",
            "False\n"
          ],
          "name": "stdout"
        }
      ]
    },
    {
      "cell_type": "code",
      "metadata": {
        "colab": {
          "base_uri": "https://localhost:8080/"
        },
        "id": "NYFh7URkyY9q",
        "outputId": "8acbb04f-2b7d-4088-9aee-64105699d42c"
      },
      "source": [
        "var = 123\n",
        "\n",
        "t1 = (1,)\n",
        "t2 = (2,)\n",
        "t3 = (3, var) # variables can also be tuple elements\n",
        "\n",
        "t1, t2, t3 = t2, t3, t1 # they can exist on the left side of assignment operator\n",
        "# useful for swapping values\n",
        "\n",
        "print(t1) #new t2\n",
        "print(t2) #new t3\n",
        "print(t3) #new t1"
      ],
      "execution_count": 8,
      "outputs": [
        {
          "output_type": "stream",
          "text": [
            "(2,)\n",
            "(3, 123)\n",
            "(1,)\n"
          ],
          "name": "stdout"
        }
      ]
    },
    {
      "cell_type": "markdown",
      "metadata": {
        "id": "AhHATPSGwfn-"
      },
      "source": [
        "## Converting other types to tuples"
      ]
    },
    {
      "cell_type": "code",
      "metadata": {
        "colab": {
          "base_uri": "https://localhost:8080/"
        },
        "id": "d0KsnliKwfMK",
        "outputId": "e3e2aab1-cd6b-4c4a-f379-db64d48f323b"
      },
      "source": [
        "my_tuple = tuple((1, 2, \"string\")) # use the in built tuple method\n",
        "print(my_tuple)\n",
        "\n",
        "my_list = [2, 4, 6]\n",
        "print(my_list)    \n",
        "print(type(my_list))    \n",
        "tup = tuple(my_list)\n",
        "print(tup)    \n",
        "print(type(tup))   "
      ],
      "execution_count": 28,
      "outputs": [
        {
          "output_type": "stream",
          "text": [
            "(1, 2, 'string')\n",
            "[2, 4, 6]\n",
            "<class 'list'>\n",
            "(2, 4, 6)\n",
            "<class 'tuple'>\n"
          ],
          "name": "stdout"
        }
      ]
    },
    {
      "cell_type": "markdown",
      "metadata": {
        "id": "0cGD8OXhw91O"
      },
      "source": [
        "## Converting tuples to lists\n"
      ]
    },
    {
      "cell_type": "code",
      "metadata": {
        "colab": {
          "base_uri": "https://localhost:8080/"
        },
        "id": "Asgi3HNWxBz9",
        "outputId": "935f4dac-42d4-486e-ea95-21a7995728f5"
      },
      "source": [
        "tup = 1, 2, 3, \n",
        "my_list = list(tup) # use the in built list method\n",
        "print(type(my_list))   "
      ],
      "execution_count": 29,
      "outputs": [
        {
          "output_type": "stream",
          "text": [
            "<class 'list'>\n"
          ],
          "name": "stdout"
        }
      ]
    },
    {
      "cell_type": "markdown",
      "metadata": {
        "id": "U4FOi1kpndhQ"
      },
      "source": [
        "# Dictionaries\n",
        "\n",
        "Python Data Structure, mutable in nature.\n",
        "\n",
        "Dictionaries are ordered, changeable (mutable), and indexed collections of data\n",
        "\n",
        "Set of key-value pairs:\n",
        "\n",
        "**Note**\n",
        "- Each key must be unique\n",
        "- Key must be any immutable object type *(numbers, Strings)*\n",
        "- Not to be confused with list: Lists have numbered values, Dictionaries have pairs of values\n",
        "- *len()* also works, returns number of key-value pairs"
      ]
    },
    {
      "cell_type": "code",
      "metadata": {
        "colab": {
          "base_uri": "https://localhost:8080/"
        },
        "id": "APOgjHNwmS4H",
        "outputId": "d1572274-9bd1-48fc-aa1c-125faf65612e"
      },
      "source": [
        "# how to make a dictionary\n",
        "\n",
        "people_passcodes = {'Emma': 31412, 'Mercy': 51246, 'Joseph':89384}\n",
        "phone_numbers = {'Panto': 2532598375, 'Daniel':475357423, 'Sparkle':53264367}\n",
        "marks = {}\n",
        "\n",
        "print(people_passcodes)\n",
        "print(phone_numbers)\n",
        "print(marks)"
      ],
      "execution_count": 9,
      "outputs": [
        {
          "output_type": "stream",
          "text": [
            "{'Emma': 31412, 'Mercy': 51246, 'Joseph': 89384}\n",
            "{'Panto': 2532598375, 'Daniel': 475357423, 'Sparkle': 53264367}\n",
            "{}\n"
          ],
          "name": "stdout"
        }
      ]
    },
    {
      "cell_type": "code",
      "metadata": {
        "colab": {
          "base_uri": "https://localhost:8080/"
        },
        "id": "jK2HQenIpwq9",
        "outputId": "e3e89495-ff60-4be6-c7c9-5344a620b26f"
      },
      "source": [
        "# How to access values from dictionary\n",
        "\n",
        "print(people_passcodes['Mercy']) # keys are case sensitive\n",
        "print(phone_numbers['Daniel'])\n",
        "\n",
        "print('Using the get method to access dictionary values ',phone_numbers.get('Panto'))\n",
        "# do not use non-existent keys: Errors your way"
      ],
      "execution_count": 30,
      "outputs": [
        {
          "output_type": "stream",
          "text": [
            "51246\n",
            "475357423\n",
            "Using the get method to access dictionary values  2532598375\n"
          ],
          "name": "stdout"
        }
      ]
    },
    {
      "cell_type": "code",
      "metadata": {
        "colab": {
          "base_uri": "https://localhost:8080/"
        },
        "id": "1BBPEF09rCnC",
        "outputId": "09cfbb70-aaa4-4bbf-8bdf-d91cf10f4415"
      },
      "source": [
        "class_mates = ['newton','arthur','Panto', 'Daniel', 'Sparkle']\n",
        "\n",
        "for mate in class_mates:\n",
        "  if mate in phone_numbers:\n",
        "    print(mate, ' Exists in the dictionary ', phone_numbers[mate])\n",
        "  else:\n",
        "    print(mate, ' Does not exist in the dictionary')"
      ],
      "execution_count": 13,
      "outputs": [
        {
          "output_type": "stream",
          "text": [
            "newton  Does not exist in the dictionary\n",
            "arthur  Does not exist in the dictionary\n",
            "Panto  Exists in the dictionary  2532598375\n",
            "Daniel  Exists in the dictionary  475357423\n",
            "Sparkle  Exists in the dictionary  53264367\n"
          ],
          "name": "stdout"
        }
      ]
    },
    {
      "cell_type": "code",
      "metadata": {
        "colab": {
          "base_uri": "https://localhost:8080/"
        },
        "id": "VrGBnI24suqX",
        "outputId": "b588bc59-fda0-4627-e783-91aef5b8c5cb"
      },
      "source": [
        "# for readabilty sake, align your dictionaries vertically\n",
        "# Example 1:\n",
        "dictionary = {\n",
        "              \"cat\": \"chat\",\n",
        "              \"dog\": \"chien\",\n",
        "              \"horse\": \"cheval\"\n",
        "              }\n",
        "\n",
        "# Example 2:\n",
        "phone_numbers2 = {'boss': 5551234567,\n",
        "                 'Suzy': 22657854310,\n",
        "                 'Martin': 654531284,\n",
        "                 'Elijah': 6845458\n",
        "                 }\n",
        "            \n",
        "print(dictionary)\n",
        "print(phone_numbers2)\n"
      ],
      "execution_count": 35,
      "outputs": [
        {
          "output_type": "stream",
          "text": [
            "{'cat': 'chat', 'dog': 'chien', 'horse': 'cheval'}\n",
            "{'boss': 5551234567, 'Suzy': 22657854310, 'Martin': 654531284, 'Elijah': 6845458}\n"
          ],
          "name": "stdout"
        }
      ]
    },
    {
      "cell_type": "markdown",
      "metadata": {
        "id": "Exyd5gBUuLog"
      },
      "source": [
        "## Browsing Dictionaries\n",
        "\n",
        "Dictionaries are not sequence types, therefore the `for` loop is useless.\n",
        "\n",
        "Instead use the `keys()` method possessed by each dictionary"
      ]
    },
    {
      "cell_type": "code",
      "metadata": {
        "colab": {
          "base_uri": "https://localhost:8080/"
        },
        "id": "NFVmPeT_tmFS",
        "outputId": "279f3607-bb37-425c-b782-97a3913b125d"
      },
      "source": [
        "for key in people_passcodes.keys(): # method returns an iterable object of all keys\n",
        "  print(key, people_passcodes[key])"
      ],
      "execution_count": 15,
      "outputs": [
        {
          "output_type": "stream",
          "text": [
            "Emma 31412\n",
            "Mercy 51246\n",
            "Joseph 89384\n"
          ],
          "name": "stdout"
        }
      ]
    },
    {
      "cell_type": "code",
      "metadata": {
        "colab": {
          "base_uri": "https://localhost:8080/"
        },
        "id": "FJoptAwRuzRc",
        "outputId": "c5b20668-99e4-4f09-b401-fb01e6adad0a"
      },
      "source": [
        "# Sorting dictionaries\n",
        "for ph_nu in sorted(phone_numbers.keys()): # use the sorted function\n",
        "  print(ph_nu, ' phone number is ', phone_numbers[ph_nu])\n"
      ],
      "execution_count": 16,
      "outputs": [
        {
          "output_type": "stream",
          "text": [
            "Daniel  phone number is  475357423\n",
            "Panto  phone number is  2532598375\n",
            "Sparkle  phone number is  53264367\n"
          ],
          "name": "stdout"
        }
      ]
    },
    {
      "cell_type": "code",
      "metadata": {
        "colab": {
          "base_uri": "https://localhost:8080/"
        },
        "id": "afsUEnE9vmQ7",
        "outputId": "0e9e1aa9-f3f8-42e2-c1d1-589d773e3015"
      },
      "source": [
        "# Using the items() method, returns a list of tuples: items of tuples are key-value pairs\n",
        "\n",
        "for name, code in people_passcodes.items():\n",
        "  print(name,' code is ', code)"
      ],
      "execution_count": 17,
      "outputs": [
        {
          "output_type": "stream",
          "text": [
            "Emma  code is  31412\n",
            "Mercy  code is  51246\n",
            "Joseph  code is  89384\n"
          ],
          "name": "stdout"
        }
      ]
    },
    {
      "cell_type": "code",
      "metadata": {
        "colab": {
          "base_uri": "https://localhost:8080/"
        },
        "id": "ixaA0-Qtwlta",
        "outputId": "2a8fbd4c-99dc-47ea-eb92-d487017e52e8"
      },
      "source": [
        "# seeing how the tuple looks like\n",
        "print(people_passcodes.items())"
      ],
      "execution_count": 18,
      "outputs": [
        {
          "output_type": "stream",
          "text": [
            "dict_items([('Emma', 31412), ('Mercy', 51246), ('Joseph', 89384)])\n"
          ],
          "name": "stdout"
        }
      ]
    },
    {
      "cell_type": "code",
      "metadata": {
        "colab": {
          "base_uri": "https://localhost:8080/"
        },
        "id": "djB2zeqOw5Mp",
        "outputId": "f08a3f14-451a-4374-de6b-b71740d6bbe9"
      },
      "source": [
        "# return only values using the values() method\n",
        "\n",
        "for val in dictionary.values():\n",
        "  print(val)"
      ],
      "execution_count": 19,
      "outputs": [
        {
          "output_type": "stream",
          "text": [
            "chat\n",
            "chien\n",
            "cheval\n"
          ],
          "name": "stdout"
        }
      ]
    },
    {
      "cell_type": "markdown",
      "metadata": {
        "id": "ZSNdYdSyyINd"
      },
      "source": [
        "## Modifying Dictionaries"
      ]
    },
    {
      "cell_type": "code",
      "metadata": {
        "colab": {
          "base_uri": "https://localhost:8080/"
        },
        "id": "M3mfkCIUx6cF",
        "outputId": "d7a68e6e-fc35-49bb-e129-03cae2859db1"
      },
      "source": [
        "# using phone_numbers2 dictionary\n",
        "print(phone_numbers2)\n",
        "phone_numbers2['boss'] = 56145 # use the keys to modify the values\n",
        "print(phone_numbers2)\n"
      ],
      "execution_count": 20,
      "outputs": [
        {
          "output_type": "stream",
          "text": [
            "{'boss': 5551234567, 'Suzy': 22657854310}\n",
            "{'boss': 56145, 'Suzy': 22657854310}\n"
          ],
          "name": "stdout"
        }
      ]
    },
    {
      "cell_type": "code",
      "metadata": {
        "colab": {
          "base_uri": "https://localhost:8080/"
        },
        "id": "Eaq4f-mlylj8",
        "outputId": "c2ce130b-a1a5-42a4-d467-853a00071245"
      },
      "source": [
        "# adding new keys\n",
        "phone_numbers2['girl'] = 789321\n",
        "print(phone_numbers2)"
      ],
      "execution_count": 21,
      "outputs": [
        {
          "output_type": "stream",
          "text": [
            "{'boss': 56145, 'Suzy': 22657854310, 'girl': 789321}\n"
          ],
          "name": "stdout"
        }
      ]
    },
    {
      "cell_type": "code",
      "metadata": {
        "colab": {
          "base_uri": "https://localhost:8080/"
        },
        "id": "odZECKpUy4l1",
        "outputId": "007aa7b3-b343-416c-a86f-1a711bfee15a"
      },
      "source": [
        "# insert an item\n",
        "phone_numbers2.update({'boys':8926})\n",
        "print(phone_numbers2)"
      ],
      "execution_count": 22,
      "outputs": [
        {
          "output_type": "stream",
          "text": [
            "{'boss': 56145, 'Suzy': 22657854310, 'girl': 789321, 'boys': 8926}\n"
          ],
          "name": "stdout"
        }
      ]
    },
    {
      "cell_type": "code",
      "metadata": {
        "colab": {
          "base_uri": "https://localhost:8080/"
        },
        "id": "HCkjoyNnlZ4h",
        "outputId": "ef5f3739-8a37-441f-bc9c-cd6f020dc572"
      },
      "source": [
        "# removing a key\n",
        "del phone_numbers2['Suzy']\n",
        "print(phone_numbers2)"
      ],
      "execution_count": 23,
      "outputs": [
        {
          "output_type": "stream",
          "text": [
            "{'boss': 56145, 'girl': 789321, 'boys': 8926}\n"
          ],
          "name": "stdout"
        }
      ]
    },
    {
      "cell_type": "code",
      "metadata": {
        "colab": {
          "base_uri": "https://localhost:8080/"
        },
        "id": "VwtUVgEUyChU",
        "outputId": "9fd2f57c-a953-4d33-dd13-5c75e424ae1e"
      },
      "source": [
        "# removing the last element in dictionary: popitem()\n",
        "print(phone_numbers2)\n",
        "print('This element has been removed from the dictionary ',phone_numbers2.popitem())\n",
        "print(phone_numbers2)"
      ],
      "execution_count": 36,
      "outputs": [
        {
          "output_type": "stream",
          "text": [
            "{'boss': 5551234567, 'Suzy': 22657854310, 'Martin': 654531284, 'Elijah': 6845458}\n",
            "This element has been removed from the dictionary  ('Elijah', 6845458)\n",
            "{'boss': 5551234567, 'Suzy': 22657854310, 'Martin': 654531284}\n"
          ],
          "name": "stdout"
        }
      ]
    },
    {
      "cell_type": "markdown",
      "metadata": {
        "id": "avWvpwp2pMuC"
      },
      "source": [
        "# A simple program illustrating use cases, tuples and dictionary"
      ]
    },
    {
      "cell_type": "code",
      "metadata": {
        "colab": {
          "base_uri": "https://localhost:8080/"
        },
        "id": "6KwQn7lglpkJ",
        "outputId": "5ebd2627-66b1-4dff-cabb-df879f170635"
      },
      "source": [
        "# an empty dictionary for a certain college class\n",
        "college_class = {}\n",
        "\n",
        "while True:\n",
        "\n",
        "  # prompting student to provide their name\n",
        "  student_name = input('What is your name? ')\n",
        "  if name == '':\n",
        "    break\n",
        "  \n",
        "  # prompting the student for their marks\n",
        "  student_marks = int(input('What is your mark? (0-10)'))\n",
        "  # checking whether the student marks are in range 0 -10\n",
        "  if student_marks not in range(0,11):\n",
        "    break\n",
        "\n",
        "\n",
        "  # checking whether student exists in class\n",
        "  if student_name in college_class:\n",
        "    # attach their marks to a tuple if they are already part\n",
        "    college_class[student_name] += (student_marks,)\n",
        "  else:\n",
        "    # just add their marks for new students, tuple still\n",
        "    college_class[student_name] = (student_marks, )\n",
        "\n",
        "\n",
        "  # sorting the student names\n",
        "for student_name in sorted(college_class.keys()):\n",
        "  # adding up all a given student marks, to find average\n",
        "  adding = 0\n",
        "  counting = 0\n",
        "  # check for marks for a given student\n",
        "  for student_marks in college_class[student_name]:\n",
        "    # add up all the marks\n",
        "    adding += student_marks\n",
        "    # count the number of marks\n",
        "    counting += 1\n",
        "  # printing the average\n",
        "  print(student_name, \"'s average is ...\", adding / counting)\n",
        "\n"
      ],
      "execution_count": 27,
      "outputs": [
        {
          "output_type": "stream",
          "text": [
            "What is your name? dan\n",
            "What is your mark? (0-10)8\n",
            "What is your name? panto\n",
            "What is your mark? (0-10)7\n",
            "What is your name? mercy\n",
            "What is your mark? (0-10)6\n",
            "What is your name? dan\n",
            "What is your mark? (0-10)9\n",
            "What is your name? panto \n",
            "What is your mark? (0-10)7\n",
            "What is your name? mercy\n",
            "What is your mark? (0-10)8\n",
            "What is your name? dan\n",
            "What is your mark? (0-10)6\n",
            "What is your name? \n",
            "What is your mark? (0-10)-1\n",
            "dan 's average is ... 7.666666666666667\n",
            "mercy 's average is ... 7.0\n",
            "panto 's average is ... 7.0\n",
            "panto  's average is ... 7.0\n"
          ],
          "name": "stdout"
        }
      ]
    },
    {
      "cell_type": "code",
      "metadata": {
        "id": "G4JGZXO4tnRr"
      },
      "source": [
        ""
      ],
      "execution_count": null,
      "outputs": []
    }
  ]
}