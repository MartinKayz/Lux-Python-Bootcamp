{
  "nbformat": 4,
  "nbformat_minor": 0,
  "metadata": {
    "colab": {
      "name": "Tic-Tac-Toe.ipynb",
      "provenance": [],
      "authorship_tag": "ABX9TyOr1rBjAla/hd0BKgHzRC53",
      "include_colab_link": true
    },
    "kernelspec": {
      "name": "python3",
      "display_name": "Python 3"
    },
    "language_info": {
      "name": "python"
    }
  },
  "cells": [
    {
      "cell_type": "markdown",
      "metadata": {
        "id": "view-in-github",
        "colab_type": "text"
      },
      "source": [
        "<a href=\"https://colab.research.google.com/github/MartinKayz/Lux-Python-Bootcamp/blob/main/Tic_Tac_Toe.ipynb\" target=\"_parent\"><img src=\"https://colab.research.google.com/assets/colab-badge.svg\" alt=\"Open In Colab\"/></a>"
      ]
    },
    {
      "cell_type": "markdown",
      "metadata": {
        "id": "4I2a0l3GLIu1"
      },
      "source": [
        "## Display the board"
      ]
    },
    {
      "cell_type": "code",
      "metadata": {
        "colab": {
          "base_uri": "https://localhost:8080/"
        },
        "id": "uBxqABf9K71t",
        "outputId": "712de9e9-eb3c-4544-936d-ba9f2b73e23c"
      },
      "source": [
        "def display_board(board):\n",
        "  # The function accepts one parameter containing the board's current status\n",
        "  # and prints it out to the console.\n",
        "  for j in range(1,2):\n",
        "    print('+------+------+------+')\n",
        "    print(f'¦      '*4)\n",
        "    print(f'   {board_test[0][0]}       {board_test[0][1]}       {board_test[0][2]}')\n",
        "    print('+------+------+------+')\n",
        "    print(f'¦      '*4)\n",
        "    print(f'   {board_test[1][0]}       {board_test[1][1]}       {board_test[1][2]}')\n",
        "    print('+------+------+------+')\n",
        "    print(f'¦      '*4)\n",
        "    print(f'   {board_test[2][0]}       {board_test[2][1]}       {board_test[2][2]}')\n",
        "    print('+------+------+------+')\n",
        "  return board\n",
        "    \n",
        "\n",
        "\n",
        "\n",
        "\n",
        "board_test = [[1,2,3], [4,5,6], [7,8,9]]\n",
        "display_board(board_test)"
      ],
      "execution_count": 76,
      "outputs": [
        {
          "output_type": "stream",
          "text": [
            "+------+------+------+\n",
            "¦      ¦      ¦      ¦      \n",
            "   1       2       3\n",
            "+------+------+------+\n",
            "¦      ¦      ¦      ¦      \n",
            "   4       5       6\n",
            "+------+------+------+\n",
            "¦      ¦      ¦      ¦      \n",
            "   7       8       9\n",
            "+------+------+------+\n"
          ],
          "name": "stdout"
        },
        {
          "output_type": "execute_result",
          "data": {
            "text/plain": [
              "[[1, 2, 3], [4, 5, 6], [7, 8, 9]]"
            ]
          },
          "metadata": {},
          "execution_count": 76
        }
      ]
    },
    {
      "cell_type": "markdown",
      "metadata": {
        "id": "juOqIzfnLHKt"
      },
      "source": [
        ""
      ]
    }
  ]
}